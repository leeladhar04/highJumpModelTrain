{
  "cells": [
    {
      "cell_type": "code",
      "execution_count": null,
      "id": "fad01976",
      "metadata": {
        "id": "fad01976"
      },
      "outputs": [],
      "source": [
        "import csv\n",
        "import cv2\n",
        "import pytesseract\n",
        "from pytesseract import image_to_string\n",
        "import pandas as pd\n",
        "import re\n",
        "import os\n",
        "import numpy as np\n",
        "from moviepy.video.io.VideoFileClip import VideoFileClip\n",
        "from matplotlib import pyplot as plt\n",
        "import matplotlib.pyplot as plt\n",
        "pytesseract.pytesseract.tesseract_cmd = r'C:\\ProgramData\\anaconda3\\Library\\bin\\tesseract.exe'\n",
        "%run tokyo_olympic_data_helper.ipynb"
      ]
    },
    {
      "cell_type": "code",
      "execution_count": null,
      "id": "e9cf2aa3",
      "metadata": {
        "id": "e9cf2aa3"
      },
      "outputs": [],
      "source": [
        "def save_data(row,fileName):\n",
        "        # Check if the CSV file exists\n",
        "    if not os.path.isfile(fileName+\".csv\"):\n",
        "        # Create a new CSV file with headers if it doesn't exist\n",
        "        df = pd.DataFrame(columns=['Sno','Match name','Name','Country','Difficulty','Dive Position','Somersaults', 'Dive Group', 'Twists','Score','Final Score'])\n",
        "    else:\n",
        "        # Read the existing CSV file into a DataFrame\n",
        "        df = pd.read_csv(fileName+\".csv\")\n",
        "\n",
        "\n",
        "    df = df.append(row, ignore_index=True)\n",
        "    # Save the updated DataFrame to the CSV file\n",
        "    df.to_csv(fileName+'.csv', index=False)\n",
        "\n",
        ""
      ]
    },
    {
      "cell_type": "code",
      "execution_count": null,
      "id": "b4b19fd2",
      "metadata": {
        "id": "b4b19fd2"
      },
      "outputs": [],
      "source": [
        "def extract_from_video(filePath,videoName,template,templateRes):\n",
        "        # Open the video using OpenCV\n",
        "\n",
        "    desired_width = 1631\n",
        "    desired_height = 907\n",
        "    cap = cv2.VideoCapture(filePath)\n",
        "    #,apiPreference=cv2.CAP_ANY,params=[\n",
        "    #cv2.CAP_PROP_FRAME_WIDTH,desired_width ,\n",
        "    #cv2.CAP_PROP_FRAME_HEIGHT, desired_height])\n",
        "\n",
        "    #cap.set(cv2.CAP_PROP_FRAME_WIDTH, desired_width)\n",
        "    #cap.set(cv2.CAP_PROP_FRAME_HEIGHT, desired_height)\n",
        "    fps=cap.get(cv2.CAP_PROP_FPS)\n",
        "    print(fps)\n",
        "    minToSkip=9\n",
        "    framesToSkip=fps*60*minToSkip\n",
        "    framesToSkipEverySec=fps-1\n",
        "    currentFrame=0\n",
        "    currentFrameInSec=0\n",
        "    diveStarted=False\n",
        "    sno=1\n",
        "    row=[]\n",
        "\n",
        "    # Initialize a list to store the scores\n",
        "\n",
        "    print(\"start\")\n",
        "\n",
        "    oldText=\"old\"\n",
        "    # Process each frame of the video\n",
        "    while True:\n",
        "        # Read the next frame\n",
        "        ret, frame = cap.read()\n",
        "        currentFrame+=1\n",
        "        currentFrameInSec+=1\n",
        "        if currentFrame<framesToSkip :\n",
        "            if currentFrame%(fps*60)==0:\n",
        "                print(currentFrame//(fps*60) ,\" min(s) Skipped\")\n",
        "            continue\n",
        "\n",
        "        if currentFrameInSec<framesToSkipEverySec:\n",
        "            continue\n",
        "\n",
        "\n",
        "\n",
        "        # Break the loop if the video has ended\n",
        "        if not ret:\n",
        "            print(\"completed\")\n",
        "            break\n",
        "\n",
        "        current_pos = cap.get(cv2.CAP_PROP_POS_MSEC)\n",
        "        total_seconds = int(current_pos // 1000)\n",
        "        minutes = total_seconds // 60\n",
        "        seconds = total_seconds % 60\n",
        "        timeInVideo =f\"{minutes} minutes and {seconds} seconds\"\n",
        "        # Convert the frame to grayscale\n",
        "        gray = cv2.cvtColor(frame, cv2.COLOR_BGR2GRAY)\n",
        "\n",
        "        # Use OCR to extract the text from the frame\n",
        "        text = image_to_string(gray,lang=\"eng\")\n",
        "\n",
        "        words = text.lower().split()  # split the text into a list of words\n",
        "        filtered_words = [word for word in words if (word != 'tokyo' and word!='2020' and word!='202' and word!='toky' and word!='tokyo2020' and word!=\"0ky0\" and word!=\"toky0\") ]  # use list comprehension to remove the word \"hello\"\n",
        "        text = ' '.join(filtered_words)  # join the remaining words back into a string\n",
        "\n",
        "        name=\"\"\n",
        "        round=\"\"\n",
        "        country=\"\"\n",
        "        difficulty=\"\"\n",
        "        divePosition=\"\"\n",
        "        somersaults=\"\"\n",
        "        diveGroup=\"\"\n",
        "        twists=\"\"\n",
        "\n",
        "        if not diveStarted and \"round\" in text.lower() and \"difficulty\" in text.lower() and \"penalty\" not in text.lower() and \"position\" in text.lower():\n",
        "            diveStarted=True\n",
        "            cropped=extract_frame(frame,template)\n",
        "            plt.imshow(cv2.cvtColor(cropped, cv2.COLOR_BGR2RGB))\n",
        "            round,country,name,difficulty,divePosition,somersaults,diveGroup,twists = extract_diveinfo(cropped)\n",
        "            row = {'Sno':sno,'Match name':videoName,\"Time\":total_seconds,'Name':name.strip(),'Country':country.strip(),'Difficulty':difficulty,'Dive Position':divePosition,'Somersaults':somersaults,\n",
        "        'Dive Group':diveGroup,\n",
        "        'Twists':twists }\n",
        "            print(timeInVideo,\" dive started\")\n",
        "\n",
        "        if diveStarted and( (\"difficulty\" in text.lower() and \"penalty\" in text.lower()) | (\"penalty\" in text.lower()) ):\n",
        "            print(timeInVideo,\" dive scores announced\")\n",
        "            cropped=extract_frame(frame,templateRes)\n",
        "            plt.imshow(cv2.cvtColor(cropped, cv2.COLOR_BGR2RGB))\n",
        "            croppedText=extract_text(cropped)\n",
        "            score=get_score(cropped)\n",
        "            finalScore=extract_final_score(text)\n",
        "            #print(finalScore,score)\n",
        "            row['Score'] = score\n",
        "            row['Final Score'] = finalScore\n",
        "            extract_clip(filePath,'ExtractedVideos/'+str(sno)+'_'+videoName+'.mp4',int(row['Time']),int(total_seconds))\n",
        "            diveStarted=False\n",
        "            sno+=1\n",
        "            print(row)\n",
        "            save_data(row,\"scores\")\n",
        "\n",
        "\n",
        "\n",
        "        currentFrameInSec=0\n",
        "    cap.release()"
      ]
    },
    {
      "cell_type": "code",
      "execution_count": null,
      "id": "d820dc6c",
      "metadata": {
        "id": "d820dc6c",
        "outputId": "43940d63-d892-4542-f77f-cf3e9788078b"
      },
      "outputs": [
        {
          "name": "stdout",
          "output_type": "stream",
          "text": [
            "25.0\n",
            "start\n",
            "1.0  min(s) Skipped\n",
            "2.0  min(s) Skipped\n",
            "3.0  min(s) Skipped\n",
            "4.0  min(s) Skipped\n",
            "5.0  min(s) Skipped\n",
            "6.0  min(s) Skipped\n",
            "7.0  min(s) Skipped\n",
            "8.0  min(s) Skipped\n",
            "9 minutes and 25 seconds  dive started\n",
            "10 minutes and 13 seconds  dive scores announced\n",
            "DownloadedVideos/Women_ 3m_Springboard_Semi-Final_Diving_Tokyo2020.mp4\n",
            "ExtractedVideos/1_Women_ 3m_Springboard_Semi-Final_Diving_Tokyo2020.mp4\n",
            "565\n",
            "613\n",
            "Moviepy - Building video ExtractedVideos/1_Women_ 3m_Springboard_Semi-Final_Diving_Tokyo2020.mp4.\n",
            "Moviepy - Writing video ExtractedVideos/1_Women_ 3m_Springboard_Semi-Final_Diving_Tokyo2020.mp4\n",
            "\n"
          ]
        },
        {
          "name": "stderr",
          "output_type": "stream",
          "text": [
            "                                                                 \r"
          ]
        },
        {
          "name": "stdout",
          "output_type": "stream",
          "text": [
            "Moviepy - Done !\n",
            "Moviepy - video ready ExtractedVideos/1_Women_ 3m_Springboard_Semi-Final_Diving_Tokyo2020.mp4\n",
            "{'Sno': 1, 'Match name': 'Women_ 3m_Springboard_Semi-Final_Diving_Tokyo2020', 'Time': 565, 'Name': 'ANABELLE SMITH', 'Country': 'AUS', 'Difficulty': '3.1', 'Dive Position': 'PIKE', 'Somersaults': '2', 'Dive Group': 'FORWARD', 'Twists': None, 'Score': ([0.0, 78.0, 78.0, 7.0, 6.0, 70.0, 7.0], '0'), 'Final Score': '65.10'}\n",
            "10 minutes and 24 seconds  dive started\n",
            "11 minutes and 4 seconds  dive scores announced\n",
            "DownloadedVideos/Women_ 3m_Springboard_Semi-Final_Diving_Tokyo2020.mp4\n",
            "ExtractedVideos/2_Women_ 3m_Springboard_Semi-Final_Diving_Tokyo2020.mp4\n",
            "624\n",
            "664\n",
            "Moviepy - Building video ExtractedVideos/2_Women_ 3m_Springboard_Semi-Final_Diving_Tokyo2020.mp4.\n",
            "Moviepy - Writing video ExtractedVideos/2_Women_ 3m_Springboard_Semi-Final_Diving_Tokyo2020.mp4\n",
            "\n"
          ]
        },
        {
          "name": "stderr",
          "output_type": "stream",
          "text": [
            "                                                                \r"
          ]
        },
        {
          "name": "stdout",
          "output_type": "stream",
          "text": [
            "Moviepy - Done !\n",
            "Moviepy - video ready ExtractedVideos/2_Women_ 3m_Springboard_Semi-Final_Diving_Tokyo2020.mp4\n",
            "{'Sno': 2, 'Match name': 'Women_ 3m_Springboard_Semi-Final_Diving_Tokyo2020', 'Time': 624, 'Name': 'ENOMOTO Haruka', 'Country': 'JPN', 'Difficulty': '3.0', 'Dive Position': 'PIKE', 'Somersaults': '22', 'Dive Group': 'FORWARD', 'Twists': '1', 'Score': ([65.0, 7.0, 6.0, 6.5, 0.0, 6.5, 6.5], '0'), 'Final Score': '58.50'}\n",
            "11 minutes and 24 seconds  dive started\n",
            "11 minutes and 55 seconds  dive scores announced\n",
            "DownloadedVideos/Women_ 3m_Springboard_Semi-Final_Diving_Tokyo2020.mp4\n",
            "ExtractedVideos/3_Women_ 3m_Springboard_Semi-Final_Diving_Tokyo2020.mp4\n",
            "684\n",
            "715\n",
            "Moviepy - Building video ExtractedVideos/3_Women_ 3m_Springboard_Semi-Final_Diving_Tokyo2020.mp4.\n",
            "Moviepy - Writing video ExtractedVideos/3_Women_ 3m_Springboard_Semi-Final_Diving_Tokyo2020.mp4\n",
            "\n"
          ]
        },
        {
          "name": "stderr",
          "output_type": "stream",
          "text": [
            "                                                               \r"
          ]
        },
        {
          "name": "stdout",
          "output_type": "stream",
          "text": [
            "Moviepy - Done !\n",
            "Moviepy - video ready ExtractedVideos/3_Women_ 3m_Springboard_Semi-Final_Diving_Tokyo2020.mp4\n",
            "{'Sno': 3, 'Match name': 'Women_ 3m_Springboard_Semi-Final_Diving_Tokyo2020', 'Time': 684, 'Name': 'INce JANSEN', 'Country': 'NED', 'Difficulty': '3.0', 'Dive Position': 'PIKE', 'Somersaults': '2', 'Dive Group': 'BACK', 'Twists': None, 'Score': ([], '0'), 'Final Score': ''}\n",
            "12 minutes and 21 seconds  dive started\n",
            "12 minutes and 56 seconds  dive scores announced\n",
            "DownloadedVideos/Women_ 3m_Springboard_Semi-Final_Diving_Tokyo2020.mp4\n",
            "ExtractedVideos/4_Women_ 3m_Springboard_Semi-Final_Diving_Tokyo2020.mp4\n",
            "741\n",
            "776\n",
            "Moviepy - Building video ExtractedVideos/4_Women_ 3m_Springboard_Semi-Final_Diving_Tokyo2020.mp4.\n",
            "Moviepy - Writing video ExtractedVideos/4_Women_ 3m_Springboard_Semi-Final_Diving_Tokyo2020.mp4\n",
            "\n"
          ]
        },
        {
          "name": "stderr",
          "output_type": "stream",
          "text": [
            "                                                               \r"
          ]
        },
        {
          "name": "stdout",
          "output_type": "stream",
          "text": [
            "Moviepy - Done !\n",
            "Moviepy - video ready ExtractedVideos/4_Women_ 3m_Springboard_Semi-Final_Diving_Tokyo2020.mp4\n",
            "{'Sno': 4, 'Match name': 'Women_ 3m_Springboard_Semi-Final_Diving_Tokyo2020', 'Time': 741, 'Name': 'Krysta PALMER', 'Country': 'USA', 'Difficulty': '3.0', 'Dive Position': 'PIKE', 'Somersaults': '22', 'Dive Group': 'INWARD', 'Twists': None, 'Score': ([65.0], '0'), 'Final Score': '60.00'}\n",
            "13 minutes and 17 seconds  dive started\n",
            "13 minutes and 57 seconds  dive scores announced\n",
            "DownloadedVideos/Women_ 3m_Springboard_Semi-Final_Diving_Tokyo2020.mp4\n",
            "ExtractedVideos/5_Women_ 3m_Springboard_Semi-Final_Diving_Tokyo2020.mp4\n",
            "797\n",
            "837\n",
            "Moviepy - Building video ExtractedVideos/5_Women_ 3m_Springboard_Semi-Final_Diving_Tokyo2020.mp4.\n",
            "Moviepy - Writing video ExtractedVideos/5_Women_ 3m_Springboard_Semi-Final_Diving_Tokyo2020.mp4\n",
            "\n"
          ]
        },
        {
          "name": "stderr",
          "output_type": "stream",
          "text": [
            "                                                                \r"
          ]
        },
        {
          "name": "stdout",
          "output_type": "stream",
          "text": [
            "Moviepy - Done !\n",
            "Moviepy - video ready ExtractedVideos/5_Women_ 3m_Springboard_Semi-Final_Diving_Tokyo2020.mp4\n",
            "{'Sno': 5, 'Match name': 'Women_ 3m_Springboard_Semi-Final_Diving_Tokyo2020', 'Time': 797, 'Name': 'Tina PUNZEL', 'Country': 'GER', 'Difficulty': '3.0', 'Dive Position': 'PIKE', 'Somersaults': '2', 'Dive Group': 'BACK', 'Twists': None, 'Score': ([1.0, 65.0, 70.0, 7.0, 7.0, 65.0, 65.0], '0'), 'Final Score': '61.50'}\n",
            "14 minutes and 13 seconds  dive started\n",
            "14 minutes and 45 seconds  dive scores announced\n",
            "DownloadedVideos/Women_ 3m_Springboard_Semi-Final_Diving_Tokyo2020.mp4\n",
            "ExtractedVideos/6_Women_ 3m_Springboard_Semi-Final_Diving_Tokyo2020.mp4\n",
            "853\n",
            "885\n",
            "Moviepy - Building video ExtractedVideos/6_Women_ 3m_Springboard_Semi-Final_Diving_Tokyo2020.mp4.\n",
            "Moviepy - Writing video ExtractedVideos/6_Women_ 3m_Springboard_Semi-Final_Diving_Tokyo2020.mp4\n",
            "\n"
          ]
        },
        {
          "name": "stderr",
          "output_type": "stream",
          "text": [
            "                                                               \r"
          ]
        },
        {
          "name": "stdout",
          "output_type": "stream",
          "text": [
            "Moviepy - Done !\n",
            "Moviepy - video ready ExtractedVideos/6_Women_ 3m_Springboard_Semi-Final_Diving_Tokyo2020.mp4\n",
            "{'Sno': 6, 'Match name': 'Women_ 3m_Springboard_Semi-Final_Diving_Tokyo2020', 'Time': 853, 'Name': 'Mariia POLIAKOVA', 'Country': 'ROC', 'Difficulty': '3.0', 'Dive Position': 'PIKE', 'Somersaults': '2', 'Dive Group': 'FORWARD', 'Twists': '1', 'Score': ([465.0, 5.0, 8.0, 6.5, 55.0, 7.0, 7.0], '0'), 'Final Score': '61.50'}\n",
            "15 minutes and 11 seconds  dive started\n",
            "15 minutes and 55 seconds  dive scores announced\n",
            "DownloadedVideos/Women_ 3m_Springboard_Semi-Final_Diving_Tokyo2020.mp4\n",
            "ExtractedVideos/7_Women_ 3m_Springboard_Semi-Final_Diving_Tokyo2020.mp4\n",
            "911\n",
            "955\n",
            "Moviepy - Building video ExtractedVideos/7_Women_ 3m_Springboard_Semi-Final_Diving_Tokyo2020.mp4.\n",
            "Moviepy - Writing video ExtractedVideos/7_Women_ 3m_Springboard_Semi-Final_Diving_Tokyo2020.mp4\n",
            "\n"
          ]
        },
        {
          "name": "stderr",
          "output_type": "stream",
          "text": [
            "                                                                 \r"
          ]
        },
        {
          "name": "stdout",
          "output_type": "stream",
          "text": [
            "Moviepy - Done !\n",
            "Moviepy - video ready ExtractedVideos/7_Women_ 3m_Springboard_Semi-Final_Diving_Tokyo2020.mp4\n",
            "{'Sno': 7, 'Match name': 'Women_ 3m_Springboard_Semi-Final_Diving_Tokyo2020', 'Time': 911, 'Name': 'Emma GULLSTRAND', 'Country': 'SWE', 'Difficulty': '3.0', 'Dive Position': 'PIKE', 'Somersaults': '22', 'Dive Group': 'INWARD', 'Twists': None, 'Score': ([70.0, 60.0, 65.0, 60.0, 6.5, 6.0, 6.0], '0'), 'Final Score': '55.50'}\n",
            "16 minutes and 17 seconds  dive started\n",
            "16 minutes and 57 seconds  dive scores announced\n",
            "DownloadedVideos/Women_ 3m_Springboard_Semi-Final_Diving_Tokyo2020.mp4\n",
            "ExtractedVideos/8_Women_ 3m_Springboard_Semi-Final_Diving_Tokyo2020.mp4\n",
            "977\n",
            "1017\n",
            "Moviepy - Building video ExtractedVideos/8_Women_ 3m_Springboard_Semi-Final_Diving_Tokyo2020.mp4.\n",
            "Moviepy - Writing video ExtractedVideos/8_Women_ 3m_Springboard_Semi-Final_Diving_Tokyo2020.mp4\n",
            "\n"
          ]
        },
        {
          "name": "stderr",
          "output_type": "stream",
          "text": [
            "                                                                \r"
          ]
        },
        {
          "name": "stdout",
          "output_type": "stream",
          "text": [
            "Moviepy - Done !\n",
            "Moviepy - video ready ExtractedVideos/8_Women_ 3m_Springboard_Semi-Final_Diving_Tokyo2020.mp4\n",
            "{'Sno': 8, 'Match name': 'Women_ 3m_Springboard_Semi-Final_Diving_Tokyo2020', 'Time': 977, 'Name': 'MicHeLLe HEIMBERG', 'Country': 'Sul', 'Difficulty': '3.0', 'Dive Position': 'PIKE', 'Somersaults': '22', 'Dive Group': 'INWARD', 'Twists': None, 'Score': ([40.0, 6.0, 65.0, 6.0, 6.0, 65.0, 6.0], '0'), 'Final Score': '55.50'}\n",
            "17 minutes and 16 seconds  dive started\n",
            "17 minutes and 50 seconds  dive scores announced\n",
            "DownloadedVideos/Women_ 3m_Springboard_Semi-Final_Diving_Tokyo2020.mp4\n",
            "ExtractedVideos/9_Women_ 3m_Springboard_Semi-Final_Diving_Tokyo2020.mp4\n",
            "1036\n",
            "1070\n",
            "Moviepy - Building video ExtractedVideos/9_Women_ 3m_Springboard_Semi-Final_Diving_Tokyo2020.mp4.\n",
            "Moviepy - Writing video ExtractedVideos/9_Women_ 3m_Springboard_Semi-Final_Diving_Tokyo2020.mp4\n",
            "\n"
          ]
        },
        {
          "name": "stderr",
          "output_type": "stream",
          "text": [
            "                                                               \r"
          ]
        },
        {
          "name": "stdout",
          "output_type": "stream",
          "text": [
            "Moviepy - Done !\n",
            "Moviepy - video ready ExtractedVideos/9_Women_ 3m_Springboard_Semi-Final_Diving_Tokyo2020.mp4\n",
            "{'Sno': 9, 'Match name': 'Women_ 3m_Springboard_Semi-Final_Diving_Tokyo2020', 'Time': 1036, 'Name': 'Nur DHaBITAH SABRI', 'Country': 'MAS', 'Difficulty': '3.0', 'Dive Position': 'PIKE', 'Somersaults': '22', 'Dive Group': 'INWARD', 'Twists': None, 'Score': ([5.0, 0.0, 7.0, 7.0, 5.0, 7.0, 7.0], '0'), 'Final Score': '63.00'}\n",
            "18 minutes and 19 seconds  dive started\n",
            "19 minutes and 2 seconds  dive scores announced\n",
            "DownloadedVideos/Women_ 3m_Springboard_Semi-Final_Diving_Tokyo2020.mp4\n",
            "ExtractedVideos/10_Women_ 3m_Springboard_Semi-Final_Diving_Tokyo2020.mp4\n",
            "1099\n",
            "1142\n",
            "Moviepy - Building video ExtractedVideos/10_Women_ 3m_Springboard_Semi-Final_Diving_Tokyo2020.mp4.\n",
            "Moviepy - Writing video ExtractedVideos/10_Women_ 3m_Springboard_Semi-Final_Diving_Tokyo2020.mp4\n",
            "\n"
          ]
        },
        {
          "name": "stderr",
          "output_type": "stream",
          "text": [
            "                                                                \r"
          ]
        },
        {
          "name": "stdout",
          "output_type": "stream",
          "text": [
            "Moviepy - Done !\n",
            "Moviepy - video ready ExtractedVideos/10_Women_ 3m_Springboard_Semi-Final_Diving_Tokyo2020.mp4\n",
            "{'Sno': 10, 'Match name': 'Women_ 3m_Springboard_Semi-Final_Diving_Tokyo2020', 'Time': 1099, 'Name': 'EstHER QIN', 'Country': 'AUS', 'Difficulty': '3.0', 'Dive Position': 'PIKE', 'Somersaults': '22', 'Dive Group': 'INWARD', 'Twists': None, 'Score': ([88.0, 7.5, 80.0, 80.0, 75.0, 75.0, 7.5], '0'), 'Final Score': '69.00'}\n",
            "19 minutes and 17 seconds  dive started\n",
            "19 minutes and 55 seconds  dive scores announced\n",
            "DownloadedVideos/Women_ 3m_Springboard_Semi-Final_Diving_Tokyo2020.mp4\n",
            "ExtractedVideos/11_Women_ 3m_Springboard_Semi-Final_Diving_Tokyo2020.mp4\n",
            "1157\n",
            "1195\n",
            "Moviepy - Building video ExtractedVideos/11_Women_ 3m_Springboard_Semi-Final_Diving_Tokyo2020.mp4.\n",
            "Moviepy - Writing video ExtractedVideos/11_Women_ 3m_Springboard_Semi-Final_Diving_Tokyo2020.mp4\n",
            "\n"
          ]
        },
        {
          "name": "stderr",
          "output_type": "stream",
          "text": [
            "                                                               \r"
          ]
        },
        {
          "name": "stdout",
          "output_type": "stream",
          "text": [
            "Moviepy - Done !\n",
            "Moviepy - video ready ExtractedVideos/11_Women_ 3m_Springboard_Semi-Final_Diving_Tokyo2020.mp4\n",
            "{'Sno': 11, 'Match name': 'Women_ 3m_Springboard_Semi-Final_Diving_Tokyo2020', 'Time': 1157, 'Name': 'Aranza VAZQUEZ MONTAN(', 'Country': 'MEX', 'Difficulty': '3.0', 'Dive Position': 'PIKE', 'Somersaults': '22', 'Dive Group': 'INWARD', 'Twists': None, 'Score': ([88.0, 7.0, 0.0, 7.5, 7.5, 7.5], '0'), 'Final Score': '67.50'}\n",
            "20 minutes and 11 seconds  dive started\n",
            "20 minutes and 41 seconds  dive scores announced\n",
            "DownloadedVideos/Women_ 3m_Springboard_Semi-Final_Diving_Tokyo2020.mp4\n",
            "ExtractedVideos/12_Women_ 3m_Springboard_Semi-Final_Diving_Tokyo2020.mp4\n",
            "1211\n",
            "1241\n",
            "Moviepy - Building video ExtractedVideos/12_Women_ 3m_Springboard_Semi-Final_Diving_Tokyo2020.mp4.\n",
            "Moviepy - Writing video ExtractedVideos/12_Women_ 3m_Springboard_Semi-Final_Diving_Tokyo2020.mp4\n",
            "\n"
          ]
        },
        {
          "name": "stderr",
          "output_type": "stream",
          "text": [
            "                                                               \r"
          ]
        },
        {
          "name": "stdout",
          "output_type": "stream",
          "text": [
            "Moviepy - Done !\n",
            "Moviepy - video ready ExtractedVideos/12_Women_ 3m_Springboard_Semi-Final_Diving_Tokyo2020.mp4\n",
            "{'Sno': 12, 'Match name': 'Women_ 3m_Springboard_Semi-Final_Diving_Tokyo2020', 'Time': 1211, 'Name': 'KIM Suii', 'Country': 'KOR', 'Difficulty': '3.0', 'Dive Position': 'PIKE', 'Somersaults': '22', 'Dive Group': 'INWARD', 'Twists': None, 'Score': ([0.0, 5.0, 0.0, 7.0, 7.0, 7.0, 65.0], '0'), 'Final Score': '63.00'}\n",
            "21 minutes and 2 seconds  dive started\n",
            "21 minutes and 38 seconds  dive scores announced\n",
            "DownloadedVideos/Women_ 3m_Springboard_Semi-Final_Diving_Tokyo2020.mp4\n",
            "ExtractedVideos/13_Women_ 3m_Springboard_Semi-Final_Diving_Tokyo2020.mp4\n",
            "1262\n",
            "1298\n",
            "Moviepy - Building video ExtractedVideos/13_Women_ 3m_Springboard_Semi-Final_Diving_Tokyo2020.mp4.\n",
            "Moviepy - Writing video ExtractedVideos/13_Women_ 3m_Springboard_Semi-Final_Diving_Tokyo2020.mp4\n",
            "\n"
          ]
        },
        {
          "name": "stderr",
          "output_type": "stream",
          "text": [
            "                                                               \r"
          ]
        },
        {
          "name": "stdout",
          "output_type": "stream",
          "text": [
            "Moviepy - Done !\n",
            "Moviepy - video ready ExtractedVideos/13_Women_ 3m_Springboard_Semi-Final_Diving_Tokyo2020.mp4\n",
            "{'Sno': 13, 'Match name': 'Women_ 3m_Springboard_Semi-Final_Diving_Tokyo2020', 'Time': 1262, 'Name': 'Haitey HERNANDEZ', 'Country': 'USA.', 'Difficulty': '2.7', 'Dive Position': 'TUCK', 'Somersaults': '22', 'Dive Group': 'INWARD', 'Twists': None, 'Score': ([7.0, 65.0, 7.0, 465.0, 70.0, 7.0, 7.0], '0'), 'Final Score': '56.70'}\n",
            "22 minutes and 1 seconds  dive started\n",
            "22 minutes and 36 seconds  dive scores announced\n",
            "DownloadedVideos/Women_ 3m_Springboard_Semi-Final_Diving_Tokyo2020.mp4\n",
            "ExtractedVideos/14_Women_ 3m_Springboard_Semi-Final_Diving_Tokyo2020.mp4\n",
            "1321\n",
            "1356\n",
            "Moviepy - Building video ExtractedVideos/14_Women_ 3m_Springboard_Semi-Final_Diving_Tokyo2020.mp4.\n",
            "Moviepy - Writing video ExtractedVideos/14_Women_ 3m_Springboard_Semi-Final_Diving_Tokyo2020.mp4\n",
            "\n"
          ]
        },
        {
          "name": "stderr",
          "output_type": "stream",
          "text": [
            "                                                               \r"
          ]
        },
        {
          "name": "stdout",
          "output_type": "stream",
          "text": [
            "Moviepy - Done !\n",
            "Moviepy - video ready ExtractedVideos/14_Women_ 3m_Springboard_Semi-Final_Diving_Tokyo2020.mp4\n",
            "{'Sno': 14, 'Match name': 'Women_ 3m_Springboard_Semi-Final_Diving_Tokyo2020', 'Time': 1321, 'Name': 'MIKAMI Savaka', 'Country': 'JPN', 'Difficulty': '3.0', 'Dive Position': 'PIKE', 'Somersaults': '22', 'Dive Group': 'INWARD', 'Twists': None, 'Score': ([5.0, 75.0, 7.5, 78.0, 8.0, 7.0, 7.0], '0'), 'Final Score': '64.50'}\n",
            "23 minutes and 2 seconds  dive started\n",
            "23 minutes and 43 seconds  dive scores announced\n",
            "DownloadedVideos/Women_ 3m_Springboard_Semi-Final_Diving_Tokyo2020.mp4\n",
            "ExtractedVideos/15_Women_ 3m_Springboard_Semi-Final_Diving_Tokyo2020.mp4\n",
            "1382\n",
            "1423\n",
            "Moviepy - Building video ExtractedVideos/15_Women_ 3m_Springboard_Semi-Final_Diving_Tokyo2020.mp4.\n",
            "Moviepy - Writing video ExtractedVideos/15_Women_ 3m_Springboard_Semi-Final_Diving_Tokyo2020.mp4\n",
            "\n"
          ]
        },
        {
          "name": "stderr",
          "output_type": "stream",
          "text": [
            "                                                                \r"
          ]
        },
        {
          "name": "stdout",
          "output_type": "stream",
          "text": [
            "Moviepy - Done !\n",
            "Moviepy - video ready ExtractedVideos/15_Women_ 3m_Springboard_Semi-Final_Diving_Tokyo2020.mp4\n",
            "{'Sno': 15, 'Match name': 'Women_ 3m_Springboard_Semi-Final_Diving_Tokyo2020', 'Time': 1382, 'Name': 'Pamera WARE', 'Country': 'CAN', 'Difficulty': '3.0', 'Dive Position': 'PIKE', 'Somersaults': '2', 'Dive Group': 'BACK', 'Twists': None, 'Score': ([5.0, 5.0, 7.5, 7.5, 488.0, 75.0, 80.0], '0'), 'Final Score': '67.50'}\n",
            "24 minutes and 3 seconds  dive started\n",
            "24 minutes and 38 seconds  dive scores announced\n",
            "DownloadedVideos/Women_ 3m_Springboard_Semi-Final_Diving_Tokyo2020.mp4\n",
            "ExtractedVideos/16_Women_ 3m_Springboard_Semi-Final_Diving_Tokyo2020.mp4\n",
            "1443\n",
            "1478\n",
            "Moviepy - Building video ExtractedVideos/16_Women_ 3m_Springboard_Semi-Final_Diving_Tokyo2020.mp4.\n",
            "Moviepy - Writing video ExtractedVideos/16_Women_ 3m_Springboard_Semi-Final_Diving_Tokyo2020.mp4\n",
            "\n"
          ]
        },
        {
          "name": "stderr",
          "output_type": "stream",
          "text": [
            "                                                               \r"
          ]
        },
        {
          "name": "stdout",
          "output_type": "stream",
          "text": [
            "Moviepy - Done !\n",
            "Moviepy - video ready ExtractedVideos/16_Women_ 3m_Springboard_Semi-Final_Diving_Tokyo2020.mp4\n",
            "{'Sno': 16, 'Match name': 'Women_ 3m_Springboard_Semi-Final_Diving_Tokyo2020', 'Time': 1443, 'Name': 'JenniFEr ABEL', 'Country': 'CAN', 'Difficulty': '3.0', 'Dive Position': 'PIKE', 'Somersaults': '22', 'Dive Group': 'INWARD', 'Twists': None, 'Score': ([7.5, 80.0, 85.0, 7.0, 7.5, 7.5, 7.5], '0'), 'Final Score': '67.50'}\n",
            "25 minutes and 4 seconds  dive started\n",
            "25 minutes and 44 seconds  dive scores announced\n",
            "DownloadedVideos/Women_ 3m_Springboard_Semi-Final_Diving_Tokyo2020.mp4\n",
            "ExtractedVideos/17_Women_ 3m_Springboard_Semi-Final_Diving_Tokyo2020.mp4\n",
            "1504\n",
            "1544\n",
            "Moviepy - Building video ExtractedVideos/17_Women_ 3m_Springboard_Semi-Final_Diving_Tokyo2020.mp4.\n",
            "Moviepy - Writing video ExtractedVideos/17_Women_ 3m_Springboard_Semi-Final_Diving_Tokyo2020.mp4\n",
            "\n"
          ]
        },
        {
          "name": "stderr",
          "output_type": "stream",
          "text": [
            "                                                                \r"
          ]
        },
        {
          "name": "stdout",
          "output_type": "stream",
          "text": [
            "Moviepy - Done !\n",
            "Moviepy - video ready ExtractedVideos/17_Women_ 3m_Springboard_Semi-Final_Diving_Tokyo2020.mp4\n",
            "{'Sno': 17, 'Match name': 'Women_ 3m_Springboard_Semi-Final_Diving_Tokyo2020', 'Time': 1504, 'Name': 'WANG Han', 'Country': 'CHN', 'Difficulty': '', 'Dive Position': 'PIKE', 'Somersaults': '22', 'Dive Group': 'INWARD', 'Twists': None, 'Score': ([880.0, 80.0, 8.0, 75.0, 7.5, 8.0, 7.5], '0'), 'Final Score': '70.50'}\n",
            "26 minutes and 4 seconds  dive started\n",
            "26 minutes and 44 seconds  dive scores announced\n",
            "DownloadedVideos/Women_ 3m_Springboard_Semi-Final_Diving_Tokyo2020.mp4\n",
            "ExtractedVideos/18_Women_ 3m_Springboard_Semi-Final_Diving_Tokyo2020.mp4\n",
            "1564\n",
            "1604\n",
            "Moviepy - Building video ExtractedVideos/18_Women_ 3m_Springboard_Semi-Final_Diving_Tokyo2020.mp4.\n",
            "Moviepy - Writing video ExtractedVideos/18_Women_ 3m_Springboard_Semi-Final_Diving_Tokyo2020.mp4\n",
            "\n"
          ]
        },
        {
          "name": "stderr",
          "output_type": "stream",
          "text": [
            "                                                                \r"
          ]
        },
        {
          "name": "stdout",
          "output_type": "stream",
          "text": [
            "Moviepy - Done !\n",
            "Moviepy - video ready ExtractedVideos/18_Women_ 3m_Springboard_Semi-Final_Diving_Tokyo2020.mp4\n",
            "{'Sno': 18, 'Match name': 'Women_ 3m_Springboard_Semi-Final_Diving_Tokyo2020', 'Time': 1564, 'Name': 'SHI Tinamao', 'Country': 'CHN', 'Difficulty': '', 'Dive Position': 'PIKE', 'Somersaults': '22', 'Dive Group': 'INWARD', 'Twists': None, 'Score': ([88.0, 40.0, 70.0, 7.0, 7.0, 7.5, 7.5], '0'), 'Final Score': '64.50'}\n",
            "27 minutes and 49 seconds  dive started\n",
            "28 minutes and 31 seconds  dive scores announced\n",
            "DownloadedVideos/Women_ 3m_Springboard_Semi-Final_Diving_Tokyo2020.mp4\n",
            "ExtractedVideos/19_Women_ 3m_Springboard_Semi-Final_Diving_Tokyo2020.mp4\n",
            "1669\n",
            "1711\n",
            "Moviepy - Building video ExtractedVideos/19_Women_ 3m_Springboard_Semi-Final_Diving_Tokyo2020.mp4.\n",
            "Moviepy - Writing video ExtractedVideos/19_Women_ 3m_Springboard_Semi-Final_Diving_Tokyo2020.mp4\n",
            "\n"
          ]
        },
        {
          "name": "stderr",
          "output_type": "stream",
          "text": [
            "                                                                 \r"
          ]
        },
        {
          "name": "stdout",
          "output_type": "stream",
          "text": [
            "Moviepy - Done !\n",
            "Moviepy - video ready ExtractedVideos/19_Women_ 3m_Springboard_Semi-Final_Diving_Tokyo2020.mp4\n",
            "{'Sno': 19, 'Match name': 'Women_ 3m_Springboard_Semi-Final_Diving_Tokyo2020', 'Time': 1669, 'Name': 'ANABELLE SMITH', 'Country': 'AUS', 'Difficulty': '', 'Dive Position': 'PIKE', 'Somersaults': '22', 'Dive Group': 'FORWARD', 'Twists': '1', 'Score': ([0.0, 6.5, 70.0, 7.0, 7.0, 7.0, 7.0], '0'), 'Final Score': '63.00'}\n",
            "28 minutes and 40 seconds  dive started\n",
            "29 minutes and 15 seconds  dive scores announced\n",
            "DownloadedVideos/Women_ 3m_Springboard_Semi-Final_Diving_Tokyo2020.mp4\n",
            "ExtractedVideos/20_Women_ 3m_Springboard_Semi-Final_Diving_Tokyo2020.mp4\n",
            "1720\n",
            "1755\n",
            "Moviepy - Building video ExtractedVideos/20_Women_ 3m_Springboard_Semi-Final_Diving_Tokyo2020.mp4.\n",
            "Moviepy - Writing video ExtractedVideos/20_Women_ 3m_Springboard_Semi-Final_Diving_Tokyo2020.mp4\n",
            "\n"
          ]
        },
        {
          "name": "stderr",
          "output_type": "stream",
          "text": [
            "                                                               \r"
          ]
        },
        {
          "name": "stdout",
          "output_type": "stream",
          "text": [
            "Moviepy - Done !\n",
            "Moviepy - video ready ExtractedVideos/20_Women_ 3m_Springboard_Semi-Final_Diving_Tokyo2020.mp4\n",
            "{'Sno': 20, 'Match name': 'Women_ 3m_Springboard_Semi-Final_Diving_Tokyo2020', 'Time': 1720, 'Name': 'ENOMOTO Haruka', 'Country': 'JPN', 'Difficulty': '3.1', 'Dive Position': 'PIKE', 'Somersaults': '2', 'Dive Group': 'FORWARD', 'Twists': None, 'Score': ([0.0, 6.5, 60.0, 6.5, 65.0, 6.5, 6.0], '0'), 'Final Score': '17.40'}\n",
            "29 minutes and 27 seconds  dive started\n",
            "30 minutes and 1 seconds  dive scores announced\n",
            "DownloadedVideos/Women_ 3m_Springboard_Semi-Final_Diving_Tokyo2020.mp4\n",
            "ExtractedVideos/21_Women_ 3m_Springboard_Semi-Final_Diving_Tokyo2020.mp4\n",
            "1767\n",
            "1801\n",
            "Moviepy - Building video ExtractedVideos/21_Women_ 3m_Springboard_Semi-Final_Diving_Tokyo2020.mp4.\n",
            "Moviepy - Writing video ExtractedVideos/21_Women_ 3m_Springboard_Semi-Final_Diving_Tokyo2020.mp4\n",
            "\n"
          ]
        },
        {
          "name": "stderr",
          "output_type": "stream",
          "text": [
            "                                                               \r"
          ]
        },
        {
          "name": "stdout",
          "output_type": "stream",
          "text": [
            "Moviepy - Done !\n",
            "Moviepy - video ready ExtractedVideos/21_Women_ 3m_Springboard_Semi-Final_Diving_Tokyo2020.mp4\n",
            "{'Sno': 21, 'Match name': 'Women_ 3m_Springboard_Semi-Final_Diving_Tokyo2020', 'Time': 1767, 'Name': 'INGe JANSEN', 'Country': 'NED', 'Difficulty': '3.0', 'Dive Position': 'PIKE', 'Somersaults': '22', 'Dive Group': 'FORWARD', 'Twists': '1', 'Score': ([4.0, 5.0, 70.0, 7.0, 5.0, 7.0, 7.0], '0'), 'Final Score': '26.00'}\n",
            "30 minutes and 25 seconds  dive started\n",
            "31 minutes and 0 seconds  dive scores announced\n",
            "DownloadedVideos/Women_ 3m_Springboard_Semi-Final_Diving_Tokyo2020.mp4\n",
            "ExtractedVideos/22_Women_ 3m_Springboard_Semi-Final_Diving_Tokyo2020.mp4\n",
            "1825\n",
            "1860\n",
            "Moviepy - Building video ExtractedVideos/22_Women_ 3m_Springboard_Semi-Final_Diving_Tokyo2020.mp4.\n",
            "Moviepy - Writing video ExtractedVideos/22_Women_ 3m_Springboard_Semi-Final_Diving_Tokyo2020.mp4\n",
            "\n"
          ]
        },
        {
          "name": "stderr",
          "output_type": "stream",
          "text": [
            "                                                               \r"
          ]
        },
        {
          "name": "stdout",
          "output_type": "stream",
          "text": [
            "Moviepy - Done !\n",
            "Moviepy - video ready ExtractedVideos/22_Women_ 3m_Springboard_Semi-Final_Diving_Tokyo2020.mp4\n",
            "{'Sno': 22, 'Match name': 'Women_ 3m_Springboard_Semi-Final_Diving_Tokyo2020', 'Time': 1825, 'Name': 'Krysta PALMER', 'Country': 'USA', 'Difficulty': '3.0', 'Dive Position': 'PIKE', 'Somersaults': '22', 'Dive Group': 'BACK', 'Twists': None, 'Score': ([50.0, 68.0, 60.0, 55.0, 60.0, 6.0, 65.0], '0'), 'Final Score': '54.00'}\n",
            "31 minutes and 11 seconds  dive started\n",
            "31 minutes and 50 seconds  dive scores announced\n",
            "DownloadedVideos/Women_ 3m_Springboard_Semi-Final_Diving_Tokyo2020.mp4\n",
            "ExtractedVideos/23_Women_ 3m_Springboard_Semi-Final_Diving_Tokyo2020.mp4\n",
            "1871\n",
            "1910\n",
            "Moviepy - Building video ExtractedVideos/23_Women_ 3m_Springboard_Semi-Final_Diving_Tokyo2020.mp4.\n",
            "Moviepy - Writing video ExtractedVideos/23_Women_ 3m_Springboard_Semi-Final_Diving_Tokyo2020.mp4\n",
            "\n"
          ]
        },
        {
          "name": "stderr",
          "output_type": "stream",
          "text": [
            "                                                               \r"
          ]
        },
        {
          "name": "stdout",
          "output_type": "stream",
          "text": [
            "Moviepy - Done !\n",
            "Moviepy - video ready ExtractedVideos/23_Women_ 3m_Springboard_Semi-Final_Diving_Tokyo2020.mp4\n",
            "{'Sno': 23, 'Match name': 'Women_ 3m_Springboard_Semi-Final_Diving_Tokyo2020', 'Time': 1871, 'Name': 'Tina PUNZEL', 'Country': 'GER', 'Difficulty': '3.1', 'Dive Position': 'PIKE', 'Somersaults': '32', 'Dive Group': 'FORWARD', 'Twists': None, 'Score': ([7.0, 7.5, 465.0, 7.0, 7.0, 8.5, 6.5], '0'), 'Final Score': '63.55'}\n",
            "32 minutes and 5 seconds  dive started\n",
            "32 minutes and 38 seconds  dive scores announced\n",
            "DownloadedVideos/Women_ 3m_Springboard_Semi-Final_Diving_Tokyo2020.mp4\n",
            "ExtractedVideos/24_Women_ 3m_Springboard_Semi-Final_Diving_Tokyo2020.mp4\n",
            "1925\n",
            "1958\n",
            "Moviepy - Building video ExtractedVideos/24_Women_ 3m_Springboard_Semi-Final_Diving_Tokyo2020.mp4.\n",
            "Moviepy - Writing video ExtractedVideos/24_Women_ 3m_Springboard_Semi-Final_Diving_Tokyo2020.mp4\n",
            "\n"
          ]
        },
        {
          "name": "stderr",
          "output_type": "stream",
          "text": [
            "                                                               \r"
          ]
        },
        {
          "name": "stdout",
          "output_type": "stream",
          "text": [
            "Moviepy - Done !\n",
            "Moviepy - video ready ExtractedVideos/24_Women_ 3m_Springboard_Semi-Final_Diving_Tokyo2020.mp4\n",
            "{'Sno': 24, 'Match name': 'Women_ 3m_Springboard_Semi-Final_Diving_Tokyo2020', 'Time': 1925, 'Name': 'Marna POLIAKOVA', 'Country': 'ROC', 'Difficulty': '', 'Dive Position': 'PIKE', 'Somersaults': '2', 'Dive Group': 'BACK', 'Twists': None, 'Score': ([40.0, 5.5, 60.0, 6.0, 60.0, 6.0, 5.5], '0'), 'Final Score': '15.50'}\n",
            "32 minutes and 50 seconds  dive started\n",
            "33 minutes and 34 seconds  dive scores announced\n",
            "DownloadedVideos/Women_ 3m_Springboard_Semi-Final_Diving_Tokyo2020.mp4\n",
            "ExtractedVideos/25_Women_ 3m_Springboard_Semi-Final_Diving_Tokyo2020.mp4\n",
            "1970\n",
            "2014\n",
            "Moviepy - Building video ExtractedVideos/25_Women_ 3m_Springboard_Semi-Final_Diving_Tokyo2020.mp4.\n",
            "Moviepy - Writing video ExtractedVideos/25_Women_ 3m_Springboard_Semi-Final_Diving_Tokyo2020.mp4\n",
            "\n"
          ]
        },
        {
          "name": "stderr",
          "output_type": "stream",
          "text": [
            "                                                                 \r"
          ]
        },
        {
          "name": "stdout",
          "output_type": "stream",
          "text": [
            "Moviepy - Done !\n",
            "Moviepy - video ready ExtractedVideos/25_Women_ 3m_Springboard_Semi-Final_Diving_Tokyo2020.mp4\n",
            "{'Sno': 25, 'Match name': 'Women_ 3m_Springboard_Semi-Final_Diving_Tokyo2020', 'Time': 1970, 'Name': 'Emma GULLSTRAND', 'Country': 'SWE', 'Difficulty': '3.1', 'Dive Position': 'PIKE', 'Somersaults': '3', 'Dive Group': 'FORWARD', 'Twists': None, 'Score': ([4.5, 55.0, 50.0, 60.0, 55.0, 60.0, 55.0], '0'), 'Final Score': '51.15'}\n",
            "33 minutes and 47 seconds  dive started\n",
            "34 minutes and 30 seconds  dive scores announced\n",
            "DownloadedVideos/Women_ 3m_Springboard_Semi-Final_Diving_Tokyo2020.mp4\n",
            "ExtractedVideos/26_Women_ 3m_Springboard_Semi-Final_Diving_Tokyo2020.mp4\n",
            "2027\n",
            "2070\n",
            "Moviepy - Building video ExtractedVideos/26_Women_ 3m_Springboard_Semi-Final_Diving_Tokyo2020.mp4.\n",
            "Moviepy - Writing video ExtractedVideos/26_Women_ 3m_Springboard_Semi-Final_Diving_Tokyo2020.mp4\n",
            "\n"
          ]
        },
        {
          "name": "stderr",
          "output_type": "stream",
          "text": [
            "                                                                 \r"
          ]
        },
        {
          "name": "stdout",
          "output_type": "stream",
          "text": [
            "Moviepy - Done !\n",
            "Moviepy - video ready ExtractedVideos/26_Women_ 3m_Springboard_Semi-Final_Diving_Tokyo2020.mp4\n",
            "{'Sno': 26, 'Match name': 'Women_ 3m_Springboard_Semi-Final_Diving_Tokyo2020', 'Time': 2027, 'Name': 'MicHeLLe HEIMBERG', 'Country': 'Sul', 'Difficulty': '', 'Dive Position': 'PIKE', 'Somersaults': '22', 'Dive Group': 'FORWARD', 'Twists': '1', 'Score': ([40.0, 58.5, 60.0, 65.0, 85.0, 6.0, 6.0], '0'), 'Final Score': '54.00'}\n",
            "34 minutes and 41 seconds  dive started\n",
            "35 minutes and 16 seconds  dive scores announced\n",
            "DownloadedVideos/Women_ 3m_Springboard_Semi-Final_Diving_Tokyo2020.mp4\n",
            "ExtractedVideos/27_Women_ 3m_Springboard_Semi-Final_Diving_Tokyo2020.mp4\n",
            "2081\n",
            "2116\n",
            "Moviepy - Building video ExtractedVideos/27_Women_ 3m_Springboard_Semi-Final_Diving_Tokyo2020.mp4.\n",
            "Moviepy - Writing video ExtractedVideos/27_Women_ 3m_Springboard_Semi-Final_Diving_Tokyo2020.mp4\n",
            "\n"
          ]
        },
        {
          "name": "stderr",
          "output_type": "stream",
          "text": [
            "                                                               \r"
          ]
        },
        {
          "name": "stdout",
          "output_type": "stream",
          "text": [
            "Moviepy - Done !\n",
            "Moviepy - video ready ExtractedVideos/27_Women_ 3m_Springboard_Semi-Final_Diving_Tokyo2020.mp4\n",
            "{'Sno': 27, 'Match name': 'Women_ 3m_Springboard_Semi-Final_Diving_Tokyo2020', 'Time': 2081, 'Name': 'Nur DHaBITAH SABRI', 'Country': 'MAS', 'Difficulty': '', 'Dive Position': 'PIKE', 'Somersaults': '32', 'Dive Group': 'FORWARD', 'Twists': None, 'Score': ([30.0, 7.0, 78.0, 7.0, 7.0, 65.0, 7.0], ''), 'Final Score': '65.10'}\n",
            "35 minutes and 27 seconds  dive started\n",
            "36 minutes and 9 seconds  dive scores announced\n",
            "DownloadedVideos/Women_ 3m_Springboard_Semi-Final_Diving_Tokyo2020.mp4\n",
            "ExtractedVideos/28_Women_ 3m_Springboard_Semi-Final_Diving_Tokyo2020.mp4\n",
            "2127\n",
            "2169\n",
            "Moviepy - Building video ExtractedVideos/28_Women_ 3m_Springboard_Semi-Final_Diving_Tokyo2020.mp4.\n",
            "Moviepy - Writing video ExtractedVideos/28_Women_ 3m_Springboard_Semi-Final_Diving_Tokyo2020.mp4\n",
            "\n"
          ]
        },
        {
          "name": "stderr",
          "output_type": "stream",
          "text": [
            "                                                                \r"
          ]
        },
        {
          "name": "stdout",
          "output_type": "stream",
          "text": [
            "Moviepy - Done !\n",
            "Moviepy - video ready ExtractedVideos/28_Women_ 3m_Springboard_Semi-Final_Diving_Tokyo2020.mp4\n",
            "{'Sno': 28, 'Match name': 'Women_ 3m_Springboard_Semi-Final_Diving_Tokyo2020', 'Time': 2127, 'Name': 'EstHER QIN', 'Country': 'AUS', 'Difficulty': '', 'Dive Position': 'PIKE', 'Somersaults': '32', 'Dive Group': 'FORWARD', 'Twists': None, 'Score': ([35.0, 485.0, 5.5, 5.5, 55.0, 66.0, 450.0], '0'), 'Final Score': '20.15'}\n",
            "36 minutes and 22 seconds  dive started\n",
            "37 minutes and 2 seconds  dive scores announced\n",
            "DownloadedVideos/Women_ 3m_Springboard_Semi-Final_Diving_Tokyo2020.mp4\n",
            "ExtractedVideos/29_Women_ 3m_Springboard_Semi-Final_Diving_Tokyo2020.mp4\n",
            "2182\n",
            "2222\n",
            "Moviepy - Building video ExtractedVideos/29_Women_ 3m_Springboard_Semi-Final_Diving_Tokyo2020.mp4.\n",
            "Moviepy - Writing video ExtractedVideos/29_Women_ 3m_Springboard_Semi-Final_Diving_Tokyo2020.mp4\n",
            "\n"
          ]
        },
        {
          "name": "stderr",
          "output_type": "stream",
          "text": [
            "                                                                \r"
          ]
        },
        {
          "name": "stdout",
          "output_type": "stream",
          "text": [
            "Moviepy - Done !\n",
            "Moviepy - video ready ExtractedVideos/29_Women_ 3m_Springboard_Semi-Final_Diving_Tokyo2020.mp4\n",
            "{'Sno': 29, 'Match name': 'Women_ 3m_Springboard_Semi-Final_Diving_Tokyo2020', 'Time': 2182, 'Name': 'Aranza VAZQUEZ MONTANC', 'Country': 'MEX', 'Difficulty': '3.1', 'Dive Position': 'PIKE', 'Somersaults': '32', 'Dive Group': 'FORWARD', 'Twists': None, 'Score': ([30.0, 970.0, 465.0, 7.0, 7.0, 7.0, 45.0], '0'), 'Final Score': '65.10'}\n",
            "37 minutes and 11 seconds  dive started\n",
            "37 minutes and 53 seconds  dive scores announced\n",
            "DownloadedVideos/Women_ 3m_Springboard_Semi-Final_Diving_Tokyo2020.mp4\n",
            "ExtractedVideos/30_Women_ 3m_Springboard_Semi-Final_Diving_Tokyo2020.mp4\n",
            "2231\n",
            "2273\n",
            "Moviepy - Building video ExtractedVideos/30_Women_ 3m_Springboard_Semi-Final_Diving_Tokyo2020.mp4.\n",
            "Moviepy - Writing video ExtractedVideos/30_Women_ 3m_Springboard_Semi-Final_Diving_Tokyo2020.mp4\n",
            "\n"
          ]
        },
        {
          "name": "stderr",
          "output_type": "stream",
          "text": [
            "                                                                \r"
          ]
        },
        {
          "name": "stdout",
          "output_type": "stream",
          "text": [
            "Moviepy - Done !\n",
            "Moviepy - video ready ExtractedVideos/30_Women_ 3m_Springboard_Semi-Final_Diving_Tokyo2020.mp4\n",
            "{'Sno': 30, 'Match name': 'Women_ 3m_Springboard_Semi-Final_Diving_Tokyo2020', 'Time': 2231, 'Name': 'KIM Sun', 'Country': 'KOR', 'Difficulty': '3.1', 'Dive Position': 'PIKE', 'Somersaults': '2', 'Dive Group': 'FORWARD', 'Twists': None, 'Score': ([48.0, 45.0, 80.0, 45.0, 5.0, 5.0, 5.0], '0'), 'Final Score': '09.50'}\n",
            "38 minutes and 2 seconds  dive started\n",
            "38 minutes and 45 seconds  dive scores announced\n",
            "DownloadedVideos/Women_ 3m_Springboard_Semi-Final_Diving_Tokyo2020.mp4\n",
            "ExtractedVideos/31_Women_ 3m_Springboard_Semi-Final_Diving_Tokyo2020.mp4\n",
            "2282\n",
            "2325\n",
            "Moviepy - Building video ExtractedVideos/31_Women_ 3m_Springboard_Semi-Final_Diving_Tokyo2020.mp4.\n",
            "Moviepy - Writing video ExtractedVideos/31_Women_ 3m_Springboard_Semi-Final_Diving_Tokyo2020.mp4\n",
            "\n"
          ]
        },
        {
          "name": "stderr",
          "output_type": "stream",
          "text": [
            "                                                                \r"
          ]
        },
        {
          "name": "stdout",
          "output_type": "stream",
          "text": [
            "Moviepy - Done !\n",
            "Moviepy - video ready ExtractedVideos/31_Women_ 3m_Springboard_Semi-Final_Diving_Tokyo2020.mp4\n",
            "{'Sno': 31, 'Match name': 'Women_ 3m_Springboard_Semi-Final_Diving_Tokyo2020', 'Time': 2282, 'Name': 'HaiLey HERNANDEZ', 'Country': 'USA', 'Difficulty': '2.8', 'Dive Position': 'TUCK', 'Somersaults': '32', 'Dive Group': 'FORWARD', 'Twists': None, 'Score': ([6.5, 80.0, 70.0, 60.0, 70.0, 6.5, 6.5], '0'), 'Final Score': ''}\n",
            "38 minutes and 56 seconds  dive started\n",
            "39 minutes and 42 seconds  dive scores announced\n",
            "DownloadedVideos/Women_ 3m_Springboard_Semi-Final_Diving_Tokyo2020.mp4\n",
            "ExtractedVideos/32_Women_ 3m_Springboard_Semi-Final_Diving_Tokyo2020.mp4\n",
            "2336\n",
            "2382\n",
            "Moviepy - Building video ExtractedVideos/32_Women_ 3m_Springboard_Semi-Final_Diving_Tokyo2020.mp4.\n",
            "Moviepy - Writing video ExtractedVideos/32_Women_ 3m_Springboard_Semi-Final_Diving_Tokyo2020.mp4\n",
            "\n"
          ]
        },
        {
          "name": "stderr",
          "output_type": "stream",
          "text": [
            "                                                                \r"
          ]
        },
        {
          "name": "stdout",
          "output_type": "stream",
          "text": [
            "Moviepy - Done !\n",
            "Moviepy - video ready ExtractedVideos/32_Women_ 3m_Springboard_Semi-Final_Diving_Tokyo2020.mp4\n",
            "{'Sno': 32, 'Match name': 'Women_ 3m_Springboard_Semi-Final_Diving_Tokyo2020', 'Time': 2336, 'Name': '', 'Country': '[ 1PN', 'Difficulty': '', 'Dive Position': 'PIKE', 'Somersaults': None, 'Dive Group': 'FORWARD', 'Twists': None, 'Score': ([45.0, 7.5, 70.0, 7.5, 78.0, 7.5, 7.0], '0'), 'Final Score': '68.20'}\n",
            "39 minutes and 55 seconds  dive started\n",
            "40 minutes and 44 seconds  dive scores announced\n",
            "DownloadedVideos/Women_ 3m_Springboard_Semi-Final_Diving_Tokyo2020.mp4\n",
            "ExtractedVideos/33_Women_ 3m_Springboard_Semi-Final_Diving_Tokyo2020.mp4\n",
            "2395\n",
            "2444\n",
            "Moviepy - Building video ExtractedVideos/33_Women_ 3m_Springboard_Semi-Final_Diving_Tokyo2020.mp4.\n",
            "Moviepy - Writing video ExtractedVideos/33_Women_ 3m_Springboard_Semi-Final_Diving_Tokyo2020.mp4\n",
            "\n"
          ]
        },
        {
          "name": "stderr",
          "output_type": "stream",
          "text": [
            "                                                                \r"
          ]
        },
        {
          "name": "stdout",
          "output_type": "stream",
          "text": [
            "Moviepy - Done !\n",
            "Moviepy - video ready ExtractedVideos/33_Women_ 3m_Springboard_Semi-Final_Diving_Tokyo2020.mp4\n",
            "{'Sno': 33, 'Match name': 'Women_ 3m_Springboard_Semi-Final_Diving_Tokyo2020', 'Time': 2395, 'Name': 'PameLa WARE', 'Country': 'CAN', 'Difficulty': '3.1', 'Dive Position': 'PIKE', 'Somersaults': '32', 'Dive Group': 'FORWARD', 'Twists': None, 'Score': ([70.0, 0.0, 7.0, 7.0, 85.0, 7.0, 7.0], '0'), 'Final Score': '65.10'}\n",
            "40 minutes and 54 seconds  dive started\n",
            "41 minutes and 40 seconds  dive scores announced\n",
            "DownloadedVideos/Women_ 3m_Springboard_Semi-Final_Diving_Tokyo2020.mp4\n",
            "ExtractedVideos/34_Women_ 3m_Springboard_Semi-Final_Diving_Tokyo2020.mp4\n",
            "2454\n",
            "2500\n",
            "Moviepy - Building video ExtractedVideos/34_Women_ 3m_Springboard_Semi-Final_Diving_Tokyo2020.mp4.\n",
            "Moviepy - Writing video ExtractedVideos/34_Women_ 3m_Springboard_Semi-Final_Diving_Tokyo2020.mp4\n",
            "\n"
          ]
        },
        {
          "name": "stderr",
          "output_type": "stream",
          "text": [
            "                                                                 \r"
          ]
        },
        {
          "name": "stdout",
          "output_type": "stream",
          "text": [
            "Moviepy - Done !\n",
            "Moviepy - video ready ExtractedVideos/34_Women_ 3m_Springboard_Semi-Final_Diving_Tokyo2020.mp4\n",
            "{'Sno': 34, 'Match name': 'Women_ 3m_Springboard_Semi-Final_Diving_Tokyo2020', 'Time': 2454, 'Name': 'JENNIFER ABEL', 'Country': 'CAN', 'Difficulty': '3.1', 'Dive Position': 'PIKE', 'Somersaults': '32', 'Dive Group': 'FORWARD', 'Twists': None, 'Score': ([80.0, 7.35, 80.0, 80.0, 80.0, 7.5, 8.0], '0'), 'Final Score': '74.40'}\n",
            "41 minutes and 54 seconds  dive started\n",
            "42 minutes and 38 seconds  dive scores announced\n",
            "DownloadedVideos/Women_ 3m_Springboard_Semi-Final_Diving_Tokyo2020.mp4\n",
            "ExtractedVideos/35_Women_ 3m_Springboard_Semi-Final_Diving_Tokyo2020.mp4\n",
            "2514\n",
            "2558\n",
            "Moviepy - Building video ExtractedVideos/35_Women_ 3m_Springboard_Semi-Final_Diving_Tokyo2020.mp4.\n",
            "Moviepy - Writing video ExtractedVideos/35_Women_ 3m_Springboard_Semi-Final_Diving_Tokyo2020.mp4\n",
            "\n"
          ]
        },
        {
          "name": "stderr",
          "output_type": "stream",
          "text": [
            "                                                                \r"
          ]
        },
        {
          "name": "stdout",
          "output_type": "stream",
          "text": [
            "Moviepy - Done !\n",
            "Moviepy - video ready ExtractedVideos/35_Women_ 3m_Springboard_Semi-Final_Diving_Tokyo2020.mp4\n",
            "{'Sno': 35, 'Match name': 'Women_ 3m_Springboard_Semi-Final_Diving_Tokyo2020', 'Time': 2514, 'Name': 'WANG Han', 'Country': 'CHN', 'Difficulty': '3.0', 'Dive Position': 'PIKE', 'Somersaults': '22', 'Dive Group': 'BACK', 'Twists': None, 'Score': ([380.0, 485.0, 80.0, 7.0, 80.0, 8.5, 80.0], ''), 'Final Score': '42.50'}\n",
            "42 minutes and 56 seconds  dive started\n",
            "43 minutes and 40 seconds  dive scores announced\n",
            "DownloadedVideos/Women_ 3m_Springboard_Semi-Final_Diving_Tokyo2020.mp4\n",
            "ExtractedVideos/36_Women_ 3m_Springboard_Semi-Final_Diving_Tokyo2020.mp4\n",
            "2576\n",
            "2620\n",
            "Moviepy - Building video ExtractedVideos/36_Women_ 3m_Springboard_Semi-Final_Diving_Tokyo2020.mp4.\n",
            "Moviepy - Writing video ExtractedVideos/36_Women_ 3m_Springboard_Semi-Final_Diving_Tokyo2020.mp4\n",
            "\n"
          ]
        },
        {
          "name": "stderr",
          "output_type": "stream",
          "text": [
            "                                                                 \r"
          ]
        },
        {
          "name": "stdout",
          "output_type": "stream",
          "text": [
            "Moviepy - Done !\n",
            "Moviepy - video ready ExtractedVideos/36_Women_ 3m_Springboard_Semi-Final_Diving_Tokyo2020.mp4\n",
            "{'Sno': 36, 'Match name': 'Women_ 3m_Springboard_Semi-Final_Diving_Tokyo2020', 'Time': 2576, 'Name': 'SHI TinagmAO', 'Country': 'CHN', 'Difficulty': '3.0', 'Dive Position': 'PIKE', 'Somersaults': '22', 'Dive Group': 'BACK', 'Twists': None, 'Score': ([35.0, 9.5, 85.0, 80.0, 80.0, 85.0, 7.5], '0'), 'Final Score': '38.00'}\n",
            "44 minutes and 38 seconds  dive started\n",
            "45 minutes and 28 seconds  dive scores announced\n",
            "DownloadedVideos/Women_ 3m_Springboard_Semi-Final_Diving_Tokyo2020.mp4\n",
            "ExtractedVideos/37_Women_ 3m_Springboard_Semi-Final_Diving_Tokyo2020.mp4\n",
            "2678\n",
            "2728\n",
            "Moviepy - Building video ExtractedVideos/37_Women_ 3m_Springboard_Semi-Final_Diving_Tokyo2020.mp4.\n",
            "Moviepy - Writing video ExtractedVideos/37_Women_ 3m_Springboard_Semi-Final_Diving_Tokyo2020.mp4\n",
            "\n"
          ]
        },
        {
          "name": "stderr",
          "output_type": "stream",
          "text": [
            "                                                                \r"
          ]
        },
        {
          "name": "stdout",
          "output_type": "stream",
          "text": [
            "Moviepy - Done !\n",
            "Moviepy - video ready ExtractedVideos/37_Women_ 3m_Springboard_Semi-Final_Diving_Tokyo2020.mp4\n",
            "{'Sno': 37, 'Match name': 'Women_ 3m_Springboard_Semi-Final_Diving_Tokyo2020', 'Time': 2678, 'Name': 'ANABELLE SMITH', 'Country': 'AUS', 'Difficulty': '', 'Dive Position': 'PIKE', 'Somersaults': '22', 'Dive Group': 'BACK', 'Twists': None, 'Score': ([4.5, 5.5, 5.5, 465.0, 7.0, 6.5, 6.5], '0'), 'Final Score': '55.50'}\n",
            "45 minutes and 44 seconds  dive started\n",
            "46 minutes and 19 seconds  dive scores announced\n",
            "DownloadedVideos/Women_ 3m_Springboard_Semi-Final_Diving_Tokyo2020.mp4\n",
            "ExtractedVideos/38_Women_ 3m_Springboard_Semi-Final_Diving_Tokyo2020.mp4\n",
            "2744\n",
            "2779\n",
            "Moviepy - Building video ExtractedVideos/38_Women_ 3m_Springboard_Semi-Final_Diving_Tokyo2020.mp4.\n",
            "Moviepy - Writing video ExtractedVideos/38_Women_ 3m_Springboard_Semi-Final_Diving_Tokyo2020.mp4\n",
            "\n"
          ]
        },
        {
          "name": "stderr",
          "output_type": "stream",
          "text": [
            "                                                               \r"
          ]
        },
        {
          "name": "stdout",
          "output_type": "stream",
          "text": [
            "Moviepy - Done !\n",
            "Moviepy - video ready ExtractedVideos/38_Women_ 3m_Springboard_Semi-Final_Diving_Tokyo2020.mp4\n",
            "{'Sno': 38, 'Match name': 'Women_ 3m_Springboard_Semi-Final_Diving_Tokyo2020', 'Time': 2744, 'Name': 'ENOMOTO Haruka', 'Country': 'JPN', 'Difficulty': '', 'Dive Position': 'PIKE', 'Somersaults': '22', 'Dive Group': 'INWARD', 'Twists': None, 'Score': ([40.0, 5.5, 30.0, 5.0, 80.0, 5.5, 5.0], '0'), 'Final Score': '46.50'}\n",
            "46 minutes and 28 seconds  dive started\n",
            "47 minutes and 3 seconds  dive scores announced\n",
            "DownloadedVideos/Women_ 3m_Springboard_Semi-Final_Diving_Tokyo2020.mp4\n",
            "ExtractedVideos/39_Women_ 3m_Springboard_Semi-Final_Diving_Tokyo2020.mp4\n",
            "2788\n",
            "2823\n",
            "Moviepy - Building video ExtractedVideos/39_Women_ 3m_Springboard_Semi-Final_Diving_Tokyo2020.mp4.\n",
            "Moviepy - Writing video ExtractedVideos/39_Women_ 3m_Springboard_Semi-Final_Diving_Tokyo2020.mp4\n",
            "\n"
          ]
        },
        {
          "name": "stderr",
          "output_type": "stream",
          "text": [
            "                                                               \r"
          ]
        },
        {
          "name": "stdout",
          "output_type": "stream",
          "text": [
            "Moviepy - Done !\n",
            "Moviepy - video ready ExtractedVideos/39_Women_ 3m_Springboard_Semi-Final_Diving_Tokyo2020.mp4\n",
            "{'Sno': 39, 'Match name': 'Women_ 3m_Springboard_Semi-Final_Diving_Tokyo2020', 'Time': 2788, 'Name': 'INGe JANSEN', 'Country': 'NED', 'Difficulty': '', 'Dive Position': 'PIKE', 'Somersaults': '22', 'Dive Group': 'REVERSE', 'Twists': None, 'Score': ([465.0, 2.0, 65.0, 6.5, 7.0, 6.5, 6.5], '0'), 'Final Score': '84.50'}\n",
            "47 minutes and 18 seconds  dive started\n",
            "48 minutes and 1 seconds  dive scores announced\n",
            "DownloadedVideos/Women_ 3m_Springboard_Semi-Final_Diving_Tokyo2020.mp4\n",
            "ExtractedVideos/40_Women_ 3m_Springboard_Semi-Final_Diving_Tokyo2020.mp4\n",
            "2838\n",
            "2881\n",
            "Moviepy - Building video ExtractedVideos/40_Women_ 3m_Springboard_Semi-Final_Diving_Tokyo2020.mp4.\n",
            "Moviepy - Writing video ExtractedVideos/40_Women_ 3m_Springboard_Semi-Final_Diving_Tokyo2020.mp4\n",
            "\n"
          ]
        },
        {
          "name": "stderr",
          "output_type": "stream",
          "text": [
            "                                                                \r"
          ]
        },
        {
          "name": "stdout",
          "output_type": "stream",
          "text": [
            "Moviepy - Done !\n",
            "Moviepy - video ready ExtractedVideos/40_Women_ 3m_Springboard_Semi-Final_Diving_Tokyo2020.mp4\n",
            "{'Sno': 40, 'Match name': 'Women_ 3m_Springboard_Semi-Final_Diving_Tokyo2020', 'Time': 2838, 'Name': 'Krysta PALMER', 'Country': 'USA', 'Difficulty': '', 'Dive Position': 'PIKE', 'Somersaults': '22', 'Dive Group': 'REVERSE', 'Twists': None, 'Score': ([7.0, 9.5, 75.0, 6.0, 8.0, 7.0, 6.5], '0'), 'Final Score': '61.50'}\n",
            "48 minutes and 14 seconds  dive started\n",
            "48 minutes and 51 seconds  dive scores announced\n",
            "DownloadedVideos/Women_ 3m_Springboard_Semi-Final_Diving_Tokyo2020.mp4\n",
            "ExtractedVideos/41_Women_ 3m_Springboard_Semi-Final_Diving_Tokyo2020.mp4\n",
            "2894\n",
            "2931\n",
            "Moviepy - Building video ExtractedVideos/41_Women_ 3m_Springboard_Semi-Final_Diving_Tokyo2020.mp4.\n",
            "Moviepy - Writing video ExtractedVideos/41_Women_ 3m_Springboard_Semi-Final_Diving_Tokyo2020.mp4\n",
            "\n"
          ]
        },
        {
          "name": "stderr",
          "output_type": "stream",
          "text": [
            "                                                               \r"
          ]
        },
        {
          "name": "stdout",
          "output_type": "stream",
          "text": [
            "Moviepy - Done !\n",
            "Moviepy - video ready ExtractedVideos/41_Women_ 3m_Springboard_Semi-Final_Diving_Tokyo2020.mp4\n",
            "{'Sno': 41, 'Match name': 'Women_ 3m_Springboard_Semi-Final_Diving_Tokyo2020', 'Time': 2894, 'Name': 'Tina PUNZEL', 'Country': 'GER', 'Difficulty': '', 'Dive Position': 'PIKE', 'Somersaults': '22', 'Dive Group': 'REVERSE', 'Twists': None, 'Score': ([70.0, 7.0, 70.0, 70.0, 7.0, 7.0, 7.0], '0'), 'Final Score': '63.00'}\n",
            "49 minutes and 2 seconds  dive started\n",
            "49 minutes and 35 seconds  dive scores announced\n",
            "DownloadedVideos/Women_ 3m_Springboard_Semi-Final_Diving_Tokyo2020.mp4\n",
            "ExtractedVideos/42_Women_ 3m_Springboard_Semi-Final_Diving_Tokyo2020.mp4\n",
            "2942\n",
            "2975\n",
            "Moviepy - Building video ExtractedVideos/42_Women_ 3m_Springboard_Semi-Final_Diving_Tokyo2020.mp4.\n",
            "Moviepy - Writing video ExtractedVideos/42_Women_ 3m_Springboard_Semi-Final_Diving_Tokyo2020.mp4\n",
            "\n"
          ]
        },
        {
          "name": "stderr",
          "output_type": "stream",
          "text": [
            "                                                               \r"
          ]
        },
        {
          "name": "stdout",
          "output_type": "stream",
          "text": [
            "Moviepy - Done !\n",
            "Moviepy - video ready ExtractedVideos/42_Women_ 3m_Springboard_Semi-Final_Diving_Tokyo2020.mp4\n",
            "{'Sno': 42, 'Match name': 'Women_ 3m_Springboard_Semi-Final_Diving_Tokyo2020', 'Time': 2942, 'Name': 'Marna POLIAKOVA', 'Country': 'ROC', 'Difficulty': '', 'Dive Position': 'PIKE', 'Somersaults': '22', 'Dive Group': 'REVERSE', 'Twists': None, 'Score': ([4.5, 465.0, 69.0, 535.0, 60.0, 65.0, 6.0], '0'), 'Final Score': '55.50'}\n",
            "49 minutes and 46 seconds  dive started\n",
            "50 minutes and 27 seconds  dive scores announced\n",
            "DownloadedVideos/Women_ 3m_Springboard_Semi-Final_Diving_Tokyo2020.mp4\n",
            "ExtractedVideos/43_Women_ 3m_Springboard_Semi-Final_Diving_Tokyo2020.mp4\n",
            "2986\n",
            "3027\n",
            "Moviepy - Building video ExtractedVideos/43_Women_ 3m_Springboard_Semi-Final_Diving_Tokyo2020.mp4.\n",
            "Moviepy - Writing video ExtractedVideos/43_Women_ 3m_Springboard_Semi-Final_Diving_Tokyo2020.mp4\n",
            "\n"
          ]
        },
        {
          "name": "stderr",
          "output_type": "stream",
          "text": [
            "                                                                 \r"
          ]
        },
        {
          "name": "stdout",
          "output_type": "stream",
          "text": [
            "Moviepy - Done !\n",
            "Moviepy - video ready ExtractedVideos/43_Women_ 3m_Springboard_Semi-Final_Diving_Tokyo2020.mp4\n",
            "{'Sno': 43, 'Match name': 'Women_ 3m_Springboard_Semi-Final_Diving_Tokyo2020', 'Time': 2986, 'Name': 'Emma GULLSTRAND', 'Country': 'SWE', 'Difficulty': '', 'Dive Position': 'PIKE', 'Somersaults': '22', 'Dive Group': 'REVERSE', 'Twists': None, 'Score': ([6.0, 6.0, 60.0, 46.5, 45.5, 65.0, 55.0], '0'), 'Final Score': '60.65'}\n",
            "50 minutes and 44 seconds  dive started\n",
            "51 minutes and 34 seconds  dive scores announced\n",
            "DownloadedVideos/Women_ 3m_Springboard_Semi-Final_Diving_Tokyo2020.mp4\n",
            "ExtractedVideos/44_Women_ 3m_Springboard_Semi-Final_Diving_Tokyo2020.mp4\n",
            "3044\n",
            "3094\n",
            "Moviepy - Building video ExtractedVideos/44_Women_ 3m_Springboard_Semi-Final_Diving_Tokyo2020.mp4.\n",
            "Moviepy - Writing video ExtractedVideos/44_Women_ 3m_Springboard_Semi-Final_Diving_Tokyo2020.mp4\n",
            "\n"
          ]
        },
        {
          "name": "stderr",
          "output_type": "stream",
          "text": [
            "                                                                 \r"
          ]
        },
        {
          "name": "stdout",
          "output_type": "stream",
          "text": [
            "Moviepy - Done !\n",
            "Moviepy - video ready ExtractedVideos/44_Women_ 3m_Springboard_Semi-Final_Diving_Tokyo2020.mp4\n",
            "{'Sno': 44, 'Match name': 'Women_ 3m_Springboard_Semi-Final_Diving_Tokyo2020', 'Time': 3044, 'Name': 'MicHerLe HEIMBERG', 'Country': 'Sul', 'Difficulty': '', 'Dive Position': 'PIKE', 'Somersaults': '32', 'Dive Group': 'FORWARD', 'Twists': None, 'Score': ([], '00'), 'Final Score': '55.80'}\n",
            "51 minutes and 52 seconds  dive started\n",
            "52 minutes and 33 seconds  dive scores announced\n",
            "DownloadedVideos/Women_ 3m_Springboard_Semi-Final_Diving_Tokyo2020.mp4\n",
            "ExtractedVideos/45_Women_ 3m_Springboard_Semi-Final_Diving_Tokyo2020.mp4\n",
            "3112\n",
            "3153\n",
            "Moviepy - Building video ExtractedVideos/45_Women_ 3m_Springboard_Semi-Final_Diving_Tokyo2020.mp4.\n",
            "Moviepy - Writing video ExtractedVideos/45_Women_ 3m_Springboard_Semi-Final_Diving_Tokyo2020.mp4\n",
            "\n"
          ]
        },
        {
          "name": "stderr",
          "output_type": "stream",
          "text": [
            "                                                                \r"
          ]
        },
        {
          "name": "stdout",
          "output_type": "stream",
          "text": [
            "Moviepy - Done !\n",
            "Moviepy - video ready ExtractedVideos/45_Women_ 3m_Springboard_Semi-Final_Diving_Tokyo2020.mp4\n",
            "{'Sno': 45, 'Match name': 'Women_ 3m_Springboard_Semi-Final_Diving_Tokyo2020', 'Time': 3112, 'Name': 'Nur DHaBITAH SABRI', 'Country': 'MAS', 'Difficulty': '', 'Dive Position': 'PIKE', 'Somersaults': '2', 'Dive Group': 'BACK', 'Twists': None, 'Score': ([7.3, 7.0, 70.0, 7.0, 7.0, 7.5, 4685.0], '0'), 'Final Score': '63.00'}\n",
            "52 minutes and 49 seconds  dive started\n",
            "53 minutes and 26 seconds  dive scores announced\n",
            "DownloadedVideos/Women_ 3m_Springboard_Semi-Final_Diving_Tokyo2020.mp4\n",
            "ExtractedVideos/46_Women_ 3m_Springboard_Semi-Final_Diving_Tokyo2020.mp4\n",
            "3169\n",
            "3206\n",
            "Moviepy - Building video ExtractedVideos/46_Women_ 3m_Springboard_Semi-Final_Diving_Tokyo2020.mp4.\n",
            "Moviepy - Writing video ExtractedVideos/46_Women_ 3m_Springboard_Semi-Final_Diving_Tokyo2020.mp4\n",
            "\n"
          ]
        },
        {
          "name": "stderr",
          "output_type": "stream",
          "text": [
            "                                                               \r"
          ]
        },
        {
          "name": "stdout",
          "output_type": "stream",
          "text": [
            "Moviepy - Done !\n",
            "Moviepy - video ready ExtractedVideos/46_Women_ 3m_Springboard_Semi-Final_Diving_Tokyo2020.mp4\n",
            "{'Sno': 46, 'Match name': 'Women_ 3m_Springboard_Semi-Final_Diving_Tokyo2020', 'Time': 3169, 'Name': 'EstHerR QIN', 'Country': 'AUS', 'Difficulty': '', 'Dive Position': 'PIKE', 'Somersaults': '22', 'Dive Group': 'BACK', 'Twists': None, 'Score': ([], '0'), 'Final Score': '58.50'}\n",
            "53 minutes and 43 seconds  dive started\n",
            "54 minutes and 23 seconds  dive scores announced\n",
            "DownloadedVideos/Women_ 3m_Springboard_Semi-Final_Diving_Tokyo2020.mp4\n",
            "ExtractedVideos/47_Women_ 3m_Springboard_Semi-Final_Diving_Tokyo2020.mp4\n",
            "3223\n",
            "3263\n",
            "Moviepy - Building video ExtractedVideos/47_Women_ 3m_Springboard_Semi-Final_Diving_Tokyo2020.mp4.\n",
            "Moviepy - Writing video ExtractedVideos/47_Women_ 3m_Springboard_Semi-Final_Diving_Tokyo2020.mp4\n",
            "\n"
          ]
        },
        {
          "name": "stderr",
          "output_type": "stream",
          "text": [
            "                                                                \r"
          ]
        },
        {
          "name": "stdout",
          "output_type": "stream",
          "text": [
            "Moviepy - Done !\n",
            "Moviepy - video ready ExtractedVideos/47_Women_ 3m_Springboard_Semi-Final_Diving_Tokyo2020.mp4\n",
            "{'Sno': 47, 'Match name': 'Women_ 3m_Springboard_Semi-Final_Diving_Tokyo2020', 'Time': 3223, 'Name': 'Aranza VAZQUEZ MONTANC', 'Country': 'MEX;', 'Difficulty': '3.0', 'Dive Position': 'PIKE', 'Somersaults': '22', 'Dive Group': 'BACK', 'Twists': None, 'Score': ([70.0, 465.0, 7.1, 7.0, 485.0, 7.0, 65.0], '0'), 'Final Score': '61.50'}\n",
            "54 minutes and 44 seconds  dive started\n",
            "55 minutes and 23 seconds  dive scores announced\n",
            "DownloadedVideos/Women_ 3m_Springboard_Semi-Final_Diving_Tokyo2020.mp4\n",
            "ExtractedVideos/48_Women_ 3m_Springboard_Semi-Final_Diving_Tokyo2020.mp4\n",
            "3284\n",
            "3323\n",
            "Moviepy - Building video ExtractedVideos/48_Women_ 3m_Springboard_Semi-Final_Diving_Tokyo2020.mp4.\n",
            "Moviepy - Writing video ExtractedVideos/48_Women_ 3m_Springboard_Semi-Final_Diving_Tokyo2020.mp4\n",
            "\n"
          ]
        },
        {
          "name": "stderr",
          "output_type": "stream",
          "text": [
            "                                                               \r"
          ]
        },
        {
          "name": "stdout",
          "output_type": "stream",
          "text": [
            "Moviepy - Done !\n",
            "Moviepy - video ready ExtractedVideos/48_Women_ 3m_Springboard_Semi-Final_Diving_Tokyo2020.mp4\n",
            "{'Sno': 48, 'Match name': 'Women_ 3m_Springboard_Semi-Final_Diving_Tokyo2020', 'Time': 3284, 'Name': 'KIM Sun', 'Country': 'KOR|', 'Difficulty': '2.8', 'Dive Position': 'TUCK', 'Somersaults': '2', 'Dive Group': 'BACK', 'Twists': None, 'Score': ([45.0, 65.0, 70.0, 6.5, 7.0, 7.0, 7.0], '0'), 'Final Score': '66.90'}\n",
            "55 minutes and 38 seconds  dive started\n",
            "56 minutes and 21 seconds  dive scores announced\n",
            "DownloadedVideos/Women_ 3m_Springboard_Semi-Final_Diving_Tokyo2020.mp4\n",
            "ExtractedVideos/49_Women_ 3m_Springboard_Semi-Final_Diving_Tokyo2020.mp4\n",
            "3338\n",
            "3381\n",
            "Moviepy - Building video ExtractedVideos/49_Women_ 3m_Springboard_Semi-Final_Diving_Tokyo2020.mp4.\n",
            "Moviepy - Writing video ExtractedVideos/49_Women_ 3m_Springboard_Semi-Final_Diving_Tokyo2020.mp4\n",
            "\n"
          ]
        },
        {
          "name": "stderr",
          "output_type": "stream",
          "text": [
            "                                                                \r"
          ]
        },
        {
          "name": "stdout",
          "output_type": "stream",
          "text": [
            "Moviepy - Done !\n",
            "Moviepy - video ready ExtractedVideos/49_Women_ 3m_Springboard_Semi-Final_Diving_Tokyo2020.mp4\n",
            "{'Sno': 49, 'Match name': 'Women_ 3m_Springboard_Semi-Final_Diving_Tokyo2020', 'Time': 3338, 'Name': 'HaiLey HERNANDEZ', 'Country': 'USA', 'Difficulty': '2.8', 'Dive Position': 'TUCK', 'Somersaults': '22', 'Dive Group': 'BACK', 'Twists': None, 'Score': ([0.0, 7.5, 3.0, 7.5, 7.5, 7.5], '00'), 'Final Score': '63.00'}\n",
            "56 minutes and 34 seconds  dive started\n",
            "57 minutes and 23 seconds  dive scores announced\n",
            "DownloadedVideos/Women_ 3m_Springboard_Semi-Final_Diving_Tokyo2020.mp4\n",
            "ExtractedVideos/50_Women_ 3m_Springboard_Semi-Final_Diving_Tokyo2020.mp4\n",
            "3394\n",
            "3443\n",
            "Moviepy - Building video ExtractedVideos/50_Women_ 3m_Springboard_Semi-Final_Diving_Tokyo2020.mp4.\n",
            "Moviepy - Writing video ExtractedVideos/50_Women_ 3m_Springboard_Semi-Final_Diving_Tokyo2020.mp4\n",
            "\n"
          ]
        },
        {
          "name": "stderr",
          "output_type": "stream",
          "text": [
            "                                                                \r"
          ]
        },
        {
          "name": "stdout",
          "output_type": "stream",
          "text": [
            "Moviepy - Done !\n",
            "Moviepy - video ready ExtractedVideos/50_Women_ 3m_Springboard_Semi-Final_Diving_Tokyo2020.mp4\n",
            "{'Sno': 50, 'Match name': 'Women_ 3m_Springboard_Semi-Final_Diving_Tokyo2020', 'Time': 3394, 'Name': 'MIKAMI Sayaka', 'Country': 'JPN', 'Difficulty': '', 'Dive Position': 'PIKE', 'Somersaults': '22', 'Dive Group': 'REVERSE', 'Twists': None, 'Score': ([25.0, 15.0, 25.0, 20.0, 2.0, 20.0, 2.5], '0'), 'Final Score': '19.50'}\n",
            "57 minutes and 41 seconds  dive started\n",
            "58 minutes and 19 seconds  dive scores announced\n",
            "DownloadedVideos/Women_ 3m_Springboard_Semi-Final_Diving_Tokyo2020.mp4\n",
            "ExtractedVideos/51_Women_ 3m_Springboard_Semi-Final_Diving_Tokyo2020.mp4\n",
            "3461\n",
            "3499\n",
            "Moviepy - Building video ExtractedVideos/51_Women_ 3m_Springboard_Semi-Final_Diving_Tokyo2020.mp4.\n",
            "Moviepy - Writing video ExtractedVideos/51_Women_ 3m_Springboard_Semi-Final_Diving_Tokyo2020.mp4\n",
            "\n"
          ]
        },
        {
          "name": "stderr",
          "output_type": "stream",
          "text": [
            "                                                               \r"
          ]
        },
        {
          "name": "stdout",
          "output_type": "stream",
          "text": [
            "Moviepy - Done !\n",
            "Moviepy - video ready ExtractedVideos/51_Women_ 3m_Springboard_Semi-Final_Diving_Tokyo2020.mp4\n",
            "{'Sno': 51, 'Match name': 'Women_ 3m_Springboard_Semi-Final_Diving_Tokyo2020', 'Time': 3461, 'Name': 'PameLa WARE', 'Country': 'CAN', 'Difficulty': '3.0', 'Dive Position': 'PIKE', 'Somersaults': '22', 'Dive Group': 'INWARD', 'Twists': None, 'Score': ([7.0, 3.0, 70.0, 7.0, 7.5, 7.5, 7.5], '0'), 'Final Score': '64.50'}\n",
            "58 minutes and 31 seconds  dive started\n",
            "59 minutes and 16 seconds  dive scores announced\n",
            "DownloadedVideos/Women_ 3m_Springboard_Semi-Final_Diving_Tokyo2020.mp4\n",
            "ExtractedVideos/52_Women_ 3m_Springboard_Semi-Final_Diving_Tokyo2020.mp4\n",
            "3511\n",
            "3556\n",
            "Moviepy - Building video ExtractedVideos/52_Women_ 3m_Springboard_Semi-Final_Diving_Tokyo2020.mp4.\n",
            "Moviepy - Writing video ExtractedVideos/52_Women_ 3m_Springboard_Semi-Final_Diving_Tokyo2020.mp4\n",
            "\n"
          ]
        },
        {
          "name": "stderr",
          "output_type": "stream",
          "text": [
            "                                                                 \r"
          ]
        },
        {
          "name": "stdout",
          "output_type": "stream",
          "text": [
            "Moviepy - Done !\n",
            "Moviepy - video ready ExtractedVideos/52_Women_ 3m_Springboard_Semi-Final_Diving_Tokyo2020.mp4\n",
            "{'Sno': 52, 'Match name': 'Women_ 3m_Springboard_Semi-Final_Diving_Tokyo2020', 'Time': 3511, 'Name': 'JENNIFER ABEL', 'Country': 'CAN', 'Difficulty': '', 'Dive Position': 'PIKE', 'Somersaults': '22', 'Dive Group': 'REVERSE', 'Twists': None, 'Score': ([40.0, 7.0, 70.0, 65.0, 65.0, 6.5, 7.0], '0'), 'Final Score': '60.00'}\n",
            "59 minutes and 26 seconds  dive started\n",
            "60 minutes and 17 seconds  dive scores announced\n",
            "DownloadedVideos/Women_ 3m_Springboard_Semi-Final_Diving_Tokyo2020.mp4\n",
            "ExtractedVideos/53_Women_ 3m_Springboard_Semi-Final_Diving_Tokyo2020.mp4\n",
            "3566\n",
            "3617\n",
            "Moviepy - Building video ExtractedVideos/53_Women_ 3m_Springboard_Semi-Final_Diving_Tokyo2020.mp4.\n",
            "Moviepy - Writing video ExtractedVideos/53_Women_ 3m_Springboard_Semi-Final_Diving_Tokyo2020.mp4\n",
            "\n"
          ]
        },
        {
          "name": "stderr",
          "output_type": "stream",
          "text": [
            "                                                                 \r"
          ]
        },
        {
          "name": "stdout",
          "output_type": "stream",
          "text": [
            "Moviepy - Done !\n",
            "Moviepy - video ready ExtractedVideos/53_Women_ 3m_Springboard_Semi-Final_Diving_Tokyo2020.mp4\n",
            "{'Sno': 53, 'Match name': 'Women_ 3m_Springboard_Semi-Final_Diving_Tokyo2020', 'Time': 3566, 'Name': 'WANG HanN', 'Country': 'CHN', 'Difficulty': '3.0', 'Dive Position': 'PIKE', 'Somersaults': '2', 'Dive Group': 'REVERSE', 'Twists': None, 'Score': ([40.0, 480.0, 85.0, 85.0, 80.0, 685.0, 90.0], '0'), 'Final Score': '75.00'}\n",
            "60 minutes and 27 seconds  dive started\n",
            "61 minutes and 15 seconds  dive scores announced\n",
            "DownloadedVideos/Women_ 3m_Springboard_Semi-Final_Diving_Tokyo2020.mp4\n",
            "ExtractedVideos/54_Women_ 3m_Springboard_Semi-Final_Diving_Tokyo2020.mp4\n",
            "3627\n",
            "3675\n",
            "Moviepy - Building video ExtractedVideos/54_Women_ 3m_Springboard_Semi-Final_Diving_Tokyo2020.mp4.\n",
            "Moviepy - Writing video ExtractedVideos/54_Women_ 3m_Springboard_Semi-Final_Diving_Tokyo2020.mp4\n",
            "\n"
          ]
        },
        {
          "name": "stderr",
          "output_type": "stream",
          "text": [
            "                                                                 \r"
          ]
        },
        {
          "name": "stdout",
          "output_type": "stream",
          "text": [
            "Moviepy - Done !\n",
            "Moviepy - video ready ExtractedVideos/54_Women_ 3m_Springboard_Semi-Final_Diving_Tokyo2020.mp4\n",
            "{'Sno': 54, 'Match name': 'Women_ 3m_Springboard_Semi-Final_Diving_Tokyo2020', 'Time': 3627, 'Name': 'SHI TiNnagmAO', 'Country': 'CHN', 'Difficulty': '', 'Dive Position': 'PIKE', 'Somersaults': '22', 'Dive Group': 'REVERSE', 'Twists': None, 'Score': ([90.0, 85.0, 90.0, 86.0, 88.0, 95.0, 8.0], '0'), 'Final Score': '76.50'}\n",
            "63 minutes and 9 seconds  dive started\n",
            "64 minutes and 30 seconds  dive scores announced\n",
            "DownloadedVideos/Women_ 3m_Springboard_Semi-Final_Diving_Tokyo2020.mp4\n",
            "ExtractedVideos/55_Women_ 3m_Springboard_Semi-Final_Diving_Tokyo2020.mp4\n",
            "3789\n",
            "3870\n",
            "Moviepy - Building video ExtractedVideos/55_Women_ 3m_Springboard_Semi-Final_Diving_Tokyo2020.mp4.\n",
            "Moviepy - Writing video ExtractedVideos/55_Women_ 3m_Springboard_Semi-Final_Diving_Tokyo2020.mp4\n",
            "\n"
          ]
        },
        {
          "name": "stderr",
          "output_type": "stream",
          "text": [
            "                                                                 \r"
          ]
        },
        {
          "name": "stdout",
          "output_type": "stream",
          "text": [
            "Moviepy - Done !\n",
            "Moviepy - video ready ExtractedVideos/55_Women_ 3m_Springboard_Semi-Final_Diving_Tokyo2020.mp4\n",
            "{'Sno': 55, 'Match name': 'Women_ 3m_Springboard_Semi-Final_Diving_Tokyo2020', 'Time': 3789, 'Name': 'ANABELLE SMITH', 'Country': 'AUS', 'Difficulty': '', 'Dive Position': 'PIKE', 'Somersaults': '2', 'Dive Group': 'REVERSE', 'Twists': None, 'Score': ([5.0, 6.0, 65.0, 60.0, 80.0, 60.0, 65.0], '20'), 'Final Score': '22.60'}\n",
            "64 minutes and 41 seconds  dive started\n",
            "65 minutes and 18 seconds  dive scores announced\n",
            "DownloadedVideos/Women_ 3m_Springboard_Semi-Final_Diving_Tokyo2020.mp4\n",
            "ExtractedVideos/56_Women_ 3m_Springboard_Semi-Final_Diving_Tokyo2020.mp4\n",
            "3881\n",
            "3918\n",
            "Moviepy - Building video ExtractedVideos/56_Women_ 3m_Springboard_Semi-Final_Diving_Tokyo2020.mp4.\n",
            "Moviepy - Writing video ExtractedVideos/56_Women_ 3m_Springboard_Semi-Final_Diving_Tokyo2020.mp4\n",
            "\n"
          ]
        },
        {
          "name": "stderr",
          "output_type": "stream",
          "text": [
            "                                                               \r"
          ]
        },
        {
          "name": "stdout",
          "output_type": "stream",
          "text": [
            "Moviepy - Done !\n",
            "Moviepy - video ready ExtractedVideos/56_Women_ 3m_Springboard_Semi-Final_Diving_Tokyo2020.mp4\n",
            "{'Sno': 56, 'Match name': 'Women_ 3m_Springboard_Semi-Final_Diving_Tokyo2020', 'Time': 3881, 'Name': 'ENOMOTO Haruka', 'Country': 'JPN', 'Difficulty': '', 'Dive Position': 'PIKE', 'Somersaults': '22', 'Dive Group': 'REVERSE', 'Twists': None, 'Score': ([40.0, 88.0, 40.0, 88.0, 35.0, 40.0, 40.0], '0'), 'Final Score': '99.90'}\n",
            "65 minutes and 30 seconds  dive started\n",
            "66 minutes and 10 seconds  dive scores announced\n",
            "DownloadedVideos/Women_ 3m_Springboard_Semi-Final_Diving_Tokyo2020.mp4\n",
            "ExtractedVideos/57_Women_ 3m_Springboard_Semi-Final_Diving_Tokyo2020.mp4\n",
            "3930\n",
            "3970\n",
            "Moviepy - Building video ExtractedVideos/57_Women_ 3m_Springboard_Semi-Final_Diving_Tokyo2020.mp4.\n",
            "Moviepy - Writing video ExtractedVideos/57_Women_ 3m_Springboard_Semi-Final_Diving_Tokyo2020.mp4\n",
            "\n"
          ]
        },
        {
          "name": "stderr",
          "output_type": "stream",
          "text": [
            "                                                                \r"
          ]
        },
        {
          "name": "stdout",
          "output_type": "stream",
          "text": [
            "Moviepy - Done !\n",
            "Moviepy - video ready ExtractedVideos/57_Women_ 3m_Springboard_Semi-Final_Diving_Tokyo2020.mp4\n",
            "{'Sno': 57, 'Match name': 'Women_ 3m_Springboard_Semi-Final_Diving_Tokyo2020', 'Time': 3930, 'Name': 'INGe JANSEN', 'Country': 'NED', 'Difficulty': '', 'Dive Position': 'PIKE', 'Somersaults': '32', 'Dive Group': 'FORWARD', 'Twists': None, 'Score': ([6.5, 60.0, 60.0, 6.5, 6.0, 6.5, 6.5], '0'), 'Final Score': '58.90'}\n",
            "66 minutes and 20 seconds  dive started\n",
            "67 minutes and 7 seconds  dive scores announced\n",
            "DownloadedVideos/Women_ 3m_Springboard_Semi-Final_Diving_Tokyo2020.mp4\n",
            "ExtractedVideos/58_Women_ 3m_Springboard_Semi-Final_Diving_Tokyo2020.mp4\n",
            "3980\n",
            "4027\n",
            "Moviepy - Building video ExtractedVideos/58_Women_ 3m_Springboard_Semi-Final_Diving_Tokyo2020.mp4.\n",
            "Moviepy - Writing video ExtractedVideos/58_Women_ 3m_Springboard_Semi-Final_Diving_Tokyo2020.mp4\n",
            "\n"
          ]
        },
        {
          "name": "stderr",
          "output_type": "stream",
          "text": [
            "                                                                \r"
          ]
        },
        {
          "name": "stdout",
          "output_type": "stream",
          "text": [
            "Moviepy - Done !\n",
            "Moviepy - video ready ExtractedVideos/58_Women_ 3m_Springboard_Semi-Final_Diving_Tokyo2020.mp4\n",
            "{'Sno': 58, 'Match name': 'Women_ 3m_Springboard_Semi-Final_Diving_Tokyo2020', 'Time': 3980, 'Name': 'Krysta PALMER', 'Country': 'USA', 'Difficulty': '3.1', 'Dive Position': 'PIKE', 'Somersaults': '32', 'Dive Group': 'FORWARD', 'Twists': None, 'Score': ([75.0, 7.5, 75.0, 70.0, 7.5, 70.0, 7.5], '0'), 'Final Score': '45.25'}\n",
            "67 minutes and 18 seconds  dive started\n",
            "67 minutes and 52 seconds  dive scores announced\n",
            "DownloadedVideos/Women_ 3m_Springboard_Semi-Final_Diving_Tokyo2020.mp4\n",
            "ExtractedVideos/59_Women_ 3m_Springboard_Semi-Final_Diving_Tokyo2020.mp4\n",
            "4038\n",
            "4072\n",
            "Moviepy - Building video ExtractedVideos/59_Women_ 3m_Springboard_Semi-Final_Diving_Tokyo2020.mp4.\n",
            "Moviepy - Writing video ExtractedVideos/59_Women_ 3m_Springboard_Semi-Final_Diving_Tokyo2020.mp4\n",
            "\n"
          ]
        },
        {
          "name": "stderr",
          "output_type": "stream",
          "text": [
            "                                                               \r"
          ]
        },
        {
          "name": "stdout",
          "output_type": "stream",
          "text": [
            "Moviepy - Done !\n",
            "Moviepy - video ready ExtractedVideos/59_Women_ 3m_Springboard_Semi-Final_Diving_Tokyo2020.mp4\n",
            "{'Sno': 59, 'Match name': 'Women_ 3m_Springboard_Semi-Final_Diving_Tokyo2020', 'Time': 4038, 'Name': 'Tina PUNZEL', 'Country': 'GER', 'Difficulty': '', 'Dive Position': 'PIKE', 'Somersaults': '22', 'Dive Group': 'FORWARD', 'Twists': '1', 'Score': ([7.0, 7.8, 485.0, 7.0, 7.0, 465.0, 7.0], '0'), 'Final Score': '51.05'}\n",
            "68 minutes and 9 seconds  dive started\n",
            "68 minutes and 40 seconds  dive scores announced\n",
            "DownloadedVideos/Women_ 3m_Springboard_Semi-Final_Diving_Tokyo2020.mp4\n",
            "ExtractedVideos/60_Women_ 3m_Springboard_Semi-Final_Diving_Tokyo2020.mp4\n",
            "4089\n",
            "4120\n",
            "Moviepy - Building video ExtractedVideos/60_Women_ 3m_Springboard_Semi-Final_Diving_Tokyo2020.mp4.\n",
            "Moviepy - Writing video ExtractedVideos/60_Women_ 3m_Springboard_Semi-Final_Diving_Tokyo2020.mp4\n",
            "\n"
          ]
        },
        {
          "name": "stderr",
          "output_type": "stream",
          "text": [
            "                                                               \r"
          ]
        },
        {
          "name": "stdout",
          "output_type": "stream",
          "text": [
            "Moviepy - Done !\n",
            "Moviepy - video ready ExtractedVideos/60_Women_ 3m_Springboard_Semi-Final_Diving_Tokyo2020.mp4\n",
            "{'Sno': 60, 'Match name': 'Women_ 3m_Springboard_Semi-Final_Diving_Tokyo2020', 'Time': 4089, 'Name': 'Marna POLIAKOVA', 'Country': 'ROC', 'Difficulty': '3.0', 'Dive Position': 'PIKE', 'Somersaults': '22', 'Dive Group': 'INWARD', 'Twists': None, 'Score': ([45.0, 5.5, 85.0, 6.5, 60.0, 6.0, 68.0], '0'), 'Final Score': '25.00'}\n",
            "69 minutes and 9 seconds  dive started\n",
            "69 minutes and 49 seconds  dive scores announced\n",
            "DownloadedVideos/Women_ 3m_Springboard_Semi-Final_Diving_Tokyo2020.mp4\n",
            "ExtractedVideos/61_Women_ 3m_Springboard_Semi-Final_Diving_Tokyo2020.mp4\n",
            "4149\n",
            "4189\n",
            "Moviepy - Building video ExtractedVideos/61_Women_ 3m_Springboard_Semi-Final_Diving_Tokyo2020.mp4.\n",
            "Moviepy - Writing video ExtractedVideos/61_Women_ 3m_Springboard_Semi-Final_Diving_Tokyo2020.mp4\n",
            "\n"
          ]
        },
        {
          "name": "stderr",
          "output_type": "stream",
          "text": [
            "                                                                \r"
          ]
        },
        {
          "name": "stdout",
          "output_type": "stream",
          "text": [
            "Moviepy - Done !\n",
            "Moviepy - video ready ExtractedVideos/61_Women_ 3m_Springboard_Semi-Final_Diving_Tokyo2020.mp4\n",
            "{'Sno': 61, 'Match name': 'Women_ 3m_Springboard_Semi-Final_Diving_Tokyo2020', 'Time': 4149, 'Name': 'Emma GULLSTRAND', 'Country': 'SWE', 'Difficulty': '3.0', 'Dive Position': 'PIKE', 'Somersaults': '2', 'Dive Group': 'BACK', 'Twists': None, 'Score': ([465.0, 7.0, 65.0, 6.5, 40.0, 5.5, 6.5], '0'), 'Final Score': '19.15'}\n",
            "70 minutes and 15 seconds  dive started\n",
            "70 minutes and 53 seconds  dive scores announced\n",
            "DownloadedVideos/Women_ 3m_Springboard_Semi-Final_Diving_Tokyo2020.mp4\n",
            "ExtractedVideos/62_Women_ 3m_Springboard_Semi-Final_Diving_Tokyo2020.mp4\n",
            "4215\n",
            "4253\n",
            "Moviepy - Building video ExtractedVideos/62_Women_ 3m_Springboard_Semi-Final_Diving_Tokyo2020.mp4.\n",
            "Moviepy - Writing video ExtractedVideos/62_Women_ 3m_Springboard_Semi-Final_Diving_Tokyo2020.mp4\n",
            "\n"
          ]
        },
        {
          "name": "stderr",
          "output_type": "stream",
          "text": [
            "                                                               \r"
          ]
        },
        {
          "name": "stdout",
          "output_type": "stream",
          "text": [
            "Moviepy - Done !\n",
            "Moviepy - video ready ExtractedVideos/62_Women_ 3m_Springboard_Semi-Final_Diving_Tokyo2020.mp4\n",
            "{'Sno': 62, 'Match name': 'Women_ 3m_Springboard_Semi-Final_Diving_Tokyo2020', 'Time': 4215, 'Name': 'MicHeLLe HEIMBERG', 'Country': 'Sul', 'Difficulty': '', 'Dive Position': 'PIKE', 'Somersaults': '2', 'Dive Group': 'BACK', 'Twists': None, 'Score': ([65.0, 60.0, 970.0, 6686.0, 65.0, 60.0, 6.5], '00'), 'Final Score': '57.00'}\n",
            "71 minutes and 4 seconds  dive started\n",
            "71 minutes and 43 seconds  dive scores announced\n",
            "DownloadedVideos/Women_ 3m_Springboard_Semi-Final_Diving_Tokyo2020.mp4\n",
            "ExtractedVideos/63_Women_ 3m_Springboard_Semi-Final_Diving_Tokyo2020.mp4\n",
            "4264\n",
            "4303\n",
            "Moviepy - Building video ExtractedVideos/63_Women_ 3m_Springboard_Semi-Final_Diving_Tokyo2020.mp4.\n",
            "Moviepy - Writing video ExtractedVideos/63_Women_ 3m_Springboard_Semi-Final_Diving_Tokyo2020.mp4\n",
            "\n"
          ]
        },
        {
          "name": "stderr",
          "output_type": "stream",
          "text": [
            "                                                               \r"
          ]
        },
        {
          "name": "stdout",
          "output_type": "stream",
          "text": [
            "Moviepy - Done !\n",
            "Moviepy - video ready ExtractedVideos/63_Women_ 3m_Springboard_Semi-Final_Diving_Tokyo2020.mp4\n",
            "{'Sno': 63, 'Match name': 'Women_ 3m_Springboard_Semi-Final_Diving_Tokyo2020', 'Time': 4264, 'Name': 'Nur DHasITAH SABRI', 'Country': 'MAS', 'Difficulty': '', 'Dive Position': 'PIKE', 'Somersaults': '2', 'Dive Group': 'REVERSE', 'Twists': None, 'Score': ([50.0, 90.0, 7.0, 6.5, 7.0, 5.0, 7.0], '00'), 'Final Score': '63.00'}\n",
            "71 minutes and 54 seconds  dive started\n",
            "72 minutes and 38 seconds  dive scores announced\n",
            "DownloadedVideos/Women_ 3m_Springboard_Semi-Final_Diving_Tokyo2020.mp4\n",
            "ExtractedVideos/64_Women_ 3m_Springboard_Semi-Final_Diving_Tokyo2020.mp4\n",
            "4314\n",
            "4358\n",
            "Moviepy - Building video ExtractedVideos/64_Women_ 3m_Springboard_Semi-Final_Diving_Tokyo2020.mp4.\n",
            "Moviepy - Writing video ExtractedVideos/64_Women_ 3m_Springboard_Semi-Final_Diving_Tokyo2020.mp4\n",
            "\n"
          ]
        },
        {
          "name": "stderr",
          "output_type": "stream",
          "text": [
            "                                                                 \r"
          ]
        },
        {
          "name": "stdout",
          "output_type": "stream",
          "text": [
            "Moviepy - Done !\n",
            "Moviepy - video ready ExtractedVideos/64_Women_ 3m_Springboard_Semi-Final_Diving_Tokyo2020.mp4\n",
            "{'Sno': 64, 'Match name': 'Women_ 3m_Springboard_Semi-Final_Diving_Tokyo2020', 'Time': 4314, 'Name': 'EstHErR QIN', 'Country': 'AUS', 'Difficulty': '3.0', 'Dive Position': 'PIKE', 'Somersaults': 2.5, 'Dive Group': 'REVERSE', 'Twists': None, 'Score': ([75.0, 758.0, 70.0, 75.0, 758.0, 7.5, 70.0], ''), 'Final Score': '67.50'}\n",
            "72 minutes and 48 seconds  dive started\n",
            "73 minutes and 28 seconds  dive scores announced\n",
            "DownloadedVideos/Women_ 3m_Springboard_Semi-Final_Diving_Tokyo2020.mp4\n",
            "ExtractedVideos/65_Women_ 3m_Springboard_Semi-Final_Diving_Tokyo2020.mp4\n",
            "4368\n",
            "4408\n",
            "Moviepy - Building video ExtractedVideos/65_Women_ 3m_Springboard_Semi-Final_Diving_Tokyo2020.mp4.\n",
            "Moviepy - Writing video ExtractedVideos/65_Women_ 3m_Springboard_Semi-Final_Diving_Tokyo2020.mp4\n",
            "\n"
          ]
        },
        {
          "name": "stderr",
          "output_type": "stream",
          "text": [
            "                                                                \r"
          ]
        },
        {
          "name": "stdout",
          "output_type": "stream",
          "text": [
            "Moviepy - Done !\n",
            "Moviepy - video ready ExtractedVideos/65_Women_ 3m_Springboard_Semi-Final_Diving_Tokyo2020.mp4\n",
            "{'Sno': 65, 'Match name': 'Women_ 3m_Springboard_Semi-Final_Diving_Tokyo2020', 'Time': 4368, 'Name': 'Aranza VAZQUEZ MONTANC', 'Country': 'MEX|', 'Difficulty': '3.0', 'Dive Position': 'PIKE', 'Somersaults': '22', 'Dive Group': 'REVERSE', 'Twists': None, 'Score': ([70.0, 75.0, 458.0, 7.0, 7.0, 7.0, 7.6], '0'), 'Final Score': '63.00'}\n",
            "73 minutes and 43 seconds  dive started\n",
            "74 minutes and 24 seconds  dive scores announced\n",
            "DownloadedVideos/Women_ 3m_Springboard_Semi-Final_Diving_Tokyo2020.mp4\n",
            "ExtractedVideos/66_Women_ 3m_Springboard_Semi-Final_Diving_Tokyo2020.mp4\n",
            "4423\n",
            "4464\n",
            "Moviepy - Building video ExtractedVideos/66_Women_ 3m_Springboard_Semi-Final_Diving_Tokyo2020.mp4.\n",
            "Moviepy - Writing video ExtractedVideos/66_Women_ 3m_Springboard_Semi-Final_Diving_Tokyo2020.mp4\n",
            "\n"
          ]
        },
        {
          "name": "stderr",
          "output_type": "stream",
          "text": [
            "                                                                \r"
          ]
        },
        {
          "name": "stdout",
          "output_type": "stream",
          "text": [
            "Moviepy - Done !\n",
            "Moviepy - video ready ExtractedVideos/66_Women_ 3m_Springboard_Semi-Final_Diving_Tokyo2020.mp4\n",
            "{'Sno': 66, 'Match name': 'Women_ 3m_Springboard_Semi-Final_Diving_Tokyo2020', 'Time': 4423, 'Name': 'KIM Sun', 'Country': 'KOR', 'Difficulty': '3.0', 'Dive Position': 'PIKE', 'Somersaults': '22', 'Dive Group': 'REVERSE', 'Twists': None, 'Score': ([6.5, 70.0, 6.5, 460.0, 240.0, 60.0, 65.0], ''), 'Final Score': ''}\n",
            "74 minutes and 35 seconds  dive started\n",
            "75 minutes and 16 seconds  dive scores announced\n",
            "DownloadedVideos/Women_ 3m_Springboard_Semi-Final_Diving_Tokyo2020.mp4\n",
            "ExtractedVideos/67_Women_ 3m_Springboard_Semi-Final_Diving_Tokyo2020.mp4\n",
            "4475\n",
            "4516\n",
            "Moviepy - Building video ExtractedVideos/67_Women_ 3m_Springboard_Semi-Final_Diving_Tokyo2020.mp4.\n",
            "Moviepy - Writing video ExtractedVideos/67_Women_ 3m_Springboard_Semi-Final_Diving_Tokyo2020.mp4\n",
            "\n"
          ]
        },
        {
          "name": "stderr",
          "output_type": "stream",
          "text": [
            "                                                                \r"
          ]
        },
        {
          "name": "stdout",
          "output_type": "stream",
          "text": [
            "Moviepy - Done !\n",
            "Moviepy - video ready ExtractedVideos/67_Women_ 3m_Springboard_Semi-Final_Diving_Tokyo2020.mp4\n",
            "{'Sno': 67, 'Match name': 'Women_ 3m_Springboard_Semi-Final_Diving_Tokyo2020', 'Time': 4475, 'Name': 'HaiLey HERNANDEZ', 'Country': 'USA', 'Difficulty': '2.8', 'Dive Position': 'TUCK', 'Somersaults': '22', 'Dive Group': 'REVERSE', 'Twists': None, 'Score': ([78.0, 78.0, 70.0, 7.0, 75.0, 7.0, 7.0], ''), 'Final Score': '33.10'}\n",
            "75 minutes and 34 seconds  dive started\n",
            "76 minutes and 16 seconds  dive scores announced\n",
            "DownloadedVideos/Women_ 3m_Springboard_Semi-Final_Diving_Tokyo2020.mp4\n",
            "ExtractedVideos/68_Women_ 3m_Springboard_Semi-Final_Diving_Tokyo2020.mp4\n",
            "4534\n",
            "4576\n",
            "Moviepy - Building video ExtractedVideos/68_Women_ 3m_Springboard_Semi-Final_Diving_Tokyo2020.mp4.\n",
            "Moviepy - Writing video ExtractedVideos/68_Women_ 3m_Springboard_Semi-Final_Diving_Tokyo2020.mp4\n",
            "\n"
          ]
        },
        {
          "name": "stderr",
          "output_type": "stream",
          "text": [
            "                                                                \r"
          ]
        },
        {
          "name": "stdout",
          "output_type": "stream",
          "text": [
            "Moviepy - Done !\n",
            "Moviepy - video ready ExtractedVideos/68_Women_ 3m_Springboard_Semi-Final_Diving_Tokyo2020.mp4\n",
            "{'Sno': 68, 'Match name': 'Women_ 3m_Springboard_Semi-Final_Diving_Tokyo2020', 'Time': 4534, 'Name': 'MIKAMI Sayaka', 'Country': 'JPN', 'Difficulty': '3.0', 'Dive Position': 'PIKE', 'Somersaults': '2', 'Dive Group': 'BACK', 'Twists': None, 'Score': ([80.0, 75.0, 80.0, 75.0, 465.0, 7.0, 75.0], '0'), 'Final Score': '19.70'}\n",
            "77 minutes and 41 seconds  dive started\n",
            "78 minutes and 20 seconds  dive scores announced\n",
            "DownloadedVideos/Women_ 3m_Springboard_Semi-Final_Diving_Tokyo2020.mp4\n",
            "ExtractedVideos/69_Women_ 3m_Springboard_Semi-Final_Diving_Tokyo2020.mp4\n",
            "4661\n",
            "4700\n",
            "Moviepy - Building video ExtractedVideos/69_Women_ 3m_Springboard_Semi-Final_Diving_Tokyo2020.mp4.\n",
            "Moviepy - Writing video ExtractedVideos/69_Women_ 3m_Springboard_Semi-Final_Diving_Tokyo2020.mp4\n",
            "\n"
          ]
        },
        {
          "name": "stderr",
          "output_type": "stream",
          "text": [
            "                                                               \r"
          ]
        },
        {
          "name": "stdout",
          "output_type": "stream",
          "text": [
            "Moviepy - Done !\n",
            "Moviepy - video ready ExtractedVideos/69_Women_ 3m_Springboard_Semi-Final_Diving_Tokyo2020.mp4\n",
            "{'Sno': 69, 'Match name': 'Women_ 3m_Springboard_Semi-Final_Diving_Tokyo2020', 'Time': 4661, 'Name': 'JENNIFER ABEL', 'Country': 'CAN', 'Difficulty': '', 'Dive Position': 'PIKE', 'Somersaults': '2', 'Dive Group': 'BACK', 'Twists': None, 'Score': ([7.8, 7.0, 75.0, 7.0, 7.0, 6.5, 7.0], '0'), 'Final Score': '63.00'}\n",
            "78 minutes and 30 seconds  dive started\n",
            "79 minutes and 20 seconds  dive scores announced\n",
            "DownloadedVideos/Women_ 3m_Springboard_Semi-Final_Diving_Tokyo2020.mp4\n",
            "ExtractedVideos/70_Women_ 3m_Springboard_Semi-Final_Diving_Tokyo2020.mp4\n",
            "4710\n",
            "4760\n",
            "Moviepy - Building video ExtractedVideos/70_Women_ 3m_Springboard_Semi-Final_Diving_Tokyo2020.mp4.\n",
            "Moviepy - Writing video ExtractedVideos/70_Women_ 3m_Springboard_Semi-Final_Diving_Tokyo2020.mp4\n",
            "\n"
          ]
        },
        {
          "name": "stderr",
          "output_type": "stream",
          "text": [
            "                                                                 \r"
          ]
        },
        {
          "name": "stdout",
          "output_type": "stream",
          "text": [
            "Moviepy - Done !\n",
            "Moviepy - video ready ExtractedVideos/70_Women_ 3m_Springboard_Semi-Final_Diving_Tokyo2020.mp4\n",
            "{'Sno': 70, 'Match name': 'Women_ 3m_Springboard_Semi-Final_Diving_Tokyo2020', 'Time': 4710, 'Name': 'WANG Han', 'Country': 'CHN', 'Difficulty': '3.1', 'Dive Position': 'PIKE', 'Somersaults': '32', 'Dive Group': 'FORWARD', 'Twists': None, 'Score': ([6.0, 46.5, 85.0, 60.0, 55.0, 65.0, 5.0], '0'), 'Final Score': '74.85'}\n",
            "79 minutes and 37 seconds  dive started\n",
            "80 minutes and 33 seconds  dive scores announced\n",
            "DownloadedVideos/Women_ 3m_Springboard_Semi-Final_Diving_Tokyo2020.mp4\n",
            "ExtractedVideos/71_Women_ 3m_Springboard_Semi-Final_Diving_Tokyo2020.mp4\n",
            "4777\n",
            "4833\n",
            "Moviepy - Building video ExtractedVideos/71_Women_ 3m_Springboard_Semi-Final_Diving_Tokyo2020.mp4.\n",
            "Moviepy - Writing video ExtractedVideos/71_Women_ 3m_Springboard_Semi-Final_Diving_Tokyo2020.mp4\n",
            "\n"
          ]
        },
        {
          "name": "stderr",
          "output_type": "stream",
          "text": [
            "                                                                \r"
          ]
        },
        {
          "name": "stdout",
          "output_type": "stream",
          "text": [
            "Moviepy - Done !\n",
            "Moviepy - video ready ExtractedVideos/71_Women_ 3m_Springboard_Semi-Final_Diving_Tokyo2020.mp4\n",
            "{'Sno': 71, 'Match name': 'Women_ 3m_Springboard_Semi-Final_Diving_Tokyo2020', 'Time': 4777, 'Name': 'SHI TiINnagmAO', 'Country': 'CHN', 'Difficulty': '3.1', 'Dive Position': 'PIKE', 'Somersaults': '32', 'Dive Group': 'FORWARD', 'Twists': None, 'Score': ([45.0, 2.0, 65.0, 80.0, 80.0, 7.5, 85.0], '0'), 'Final Score': '75.95'}\n",
            "81 minutes and 26 seconds  dive started\n",
            "82 minutes and 13 seconds  dive scores announced\n",
            "DownloadedVideos/Women_ 3m_Springboard_Semi-Final_Diving_Tokyo2020.mp4\n",
            "ExtractedVideos/72_Women_ 3m_Springboard_Semi-Final_Diving_Tokyo2020.mp4\n",
            "4886\n",
            "4933\n",
            "Moviepy - Building video ExtractedVideos/72_Women_ 3m_Springboard_Semi-Final_Diving_Tokyo2020.mp4.\n",
            "Moviepy - Writing video ExtractedVideos/72_Women_ 3m_Springboard_Semi-Final_Diving_Tokyo2020.mp4\n",
            "\n"
          ]
        },
        {
          "name": "stderr",
          "output_type": "stream",
          "text": [
            "                                                                \r"
          ]
        },
        {
          "name": "stdout",
          "output_type": "stream",
          "text": [
            "Moviepy - Done !\n",
            "Moviepy - video ready ExtractedVideos/72_Women_ 3m_Springboard_Semi-Final_Diving_Tokyo2020.mp4\n",
            "{'Sno': 72, 'Match name': 'Women_ 3m_Springboard_Semi-Final_Diving_Tokyo2020', 'Time': 4886, 'Name': 'ANABELLE SMITH', 'Country': 'AUS', 'Difficulty': '3.0', 'Dive Position': 'PIKE', 'Somersaults': '22', 'Dive Group': 'INWARD', 'Twists': None, 'Score': ([35.0, 75.0, 0.0, 0.0, 7.0, 7.0, 7.0], '0'), 'Final Score': '63.00'}\n",
            "82 minutes and 28 seconds  dive started\n",
            "83 minutes and 6 seconds  dive scores announced\n",
            "DownloadedVideos/Women_ 3m_Springboard_Semi-Final_Diving_Tokyo2020.mp4\n",
            "ExtractedVideos/73_Women_ 3m_Springboard_Semi-Final_Diving_Tokyo2020.mp4\n",
            "4948\n",
            "4986\n",
            "Moviepy - Building video ExtractedVideos/73_Women_ 3m_Springboard_Semi-Final_Diving_Tokyo2020.mp4.\n",
            "Moviepy - Writing video ExtractedVideos/73_Women_ 3m_Springboard_Semi-Final_Diving_Tokyo2020.mp4\n",
            "\n"
          ]
        },
        {
          "name": "stderr",
          "output_type": "stream",
          "text": [
            "                                                               \r"
          ]
        },
        {
          "name": "stdout",
          "output_type": "stream",
          "text": [
            "Moviepy - Done !\n",
            "Moviepy - video ready ExtractedVideos/73_Women_ 3m_Springboard_Semi-Final_Diving_Tokyo2020.mp4\n",
            "{'Sno': 73, 'Match name': 'Women_ 3m_Springboard_Semi-Final_Diving_Tokyo2020', 'Time': 4948, 'Name': 'ENOMOTO HaRruka', 'Country': 'JPN', 'Difficulty': '3.0', 'Dive Position': 'PIKE', 'Somersaults': 2.5, 'Dive Group': 'BACK', 'Twists': None, 'Score': ([45.0, 65.0, 60.0, 55.0, 60.0, 6.5, 6.0], '0'), 'Final Score': '55.50'}\n",
            "83 minutes and 27 seconds  dive started\n",
            "84 minutes and 4 seconds  dive scores announced\n",
            "DownloadedVideos/Women_ 3m_Springboard_Semi-Final_Diving_Tokyo2020.mp4\n",
            "ExtractedVideos/74_Women_ 3m_Springboard_Semi-Final_Diving_Tokyo2020.mp4\n",
            "5007\n",
            "5044\n",
            "Moviepy - Building video ExtractedVideos/74_Women_ 3m_Springboard_Semi-Final_Diving_Tokyo2020.mp4.\n",
            "Moviepy - Writing video ExtractedVideos/74_Women_ 3m_Springboard_Semi-Final_Diving_Tokyo2020.mp4\n",
            "\n"
          ]
        },
        {
          "name": "stderr",
          "output_type": "stream",
          "text": [
            "                                                               \r"
          ]
        },
        {
          "name": "stdout",
          "output_type": "stream",
          "text": [
            "Moviepy - Done !\n",
            "Moviepy - video ready ExtractedVideos/74_Women_ 3m_Springboard_Semi-Final_Diving_Tokyo2020.mp4\n",
            "{'Sno': 74, 'Match name': 'Women_ 3m_Springboard_Semi-Final_Diving_Tokyo2020', 'Time': 5007, 'Name': 'INGe JANSEN', 'Country': 'NED', 'Difficulty': '3.0', 'Dive Position': 'PIKE', 'Somersaults': '22', 'Dive Group': 'INWARD', 'Twists': None, 'Score': ([70.0, 460.0, 6.5, 40.0, 65.0, 65.0, 6.5], '0'), 'Final Score': '58.50'}\n",
            "84 minutes and 20 seconds  dive started\n",
            "85 minutes and 15 seconds  dive scores announced\n",
            "DownloadedVideos/Women_ 3m_Springboard_Semi-Final_Diving_Tokyo2020.mp4\n",
            "ExtractedVideos/75_Women_ 3m_Springboard_Semi-Final_Diving_Tokyo2020.mp4\n",
            "5060\n",
            "5115\n",
            "Moviepy - Building video ExtractedVideos/75_Women_ 3m_Springboard_Semi-Final_Diving_Tokyo2020.mp4.\n",
            "Moviepy - Writing video ExtractedVideos/75_Women_ 3m_Springboard_Semi-Final_Diving_Tokyo2020.mp4\n",
            "\n"
          ]
        },
        {
          "name": "stderr",
          "output_type": "stream",
          "text": [
            "                                                                \r"
          ]
        },
        {
          "name": "stdout",
          "output_type": "stream",
          "text": [
            "Moviepy - Done !\n",
            "Moviepy - video ready ExtractedVideos/75_Women_ 3m_Springboard_Semi-Final_Diving_Tokyo2020.mp4\n",
            "{'Sno': 75, 'Match name': 'Women_ 3m_Springboard_Semi-Final_Diving_Tokyo2020', 'Time': 5060, 'Name': 'Krysta PALMER', 'Country': 'USA', 'Difficulty': '3.4', 'Dive Position': 'PIKE', 'Somersaults': '22', 'Dive Group': 'FORWARD', 'Twists': '2', 'Score': ([70.0, 7.5, 70.0, 6.5, 465.0, 7.0, 7.0], '0'), 'Final Score': '71.40'}\n",
            "85 minutes and 37 seconds  dive started\n",
            "86 minutes and 14 seconds  dive scores announced\n",
            "DownloadedVideos/Women_ 3m_Springboard_Semi-Final_Diving_Tokyo2020.mp4\n",
            "ExtractedVideos/76_Women_ 3m_Springboard_Semi-Final_Diving_Tokyo2020.mp4\n",
            "5137\n",
            "5174\n",
            "Moviepy - Building video ExtractedVideos/76_Women_ 3m_Springboard_Semi-Final_Diving_Tokyo2020.mp4.\n",
            "Moviepy - Writing video ExtractedVideos/76_Women_ 3m_Springboard_Semi-Final_Diving_Tokyo2020.mp4\n",
            "\n"
          ]
        },
        {
          "name": "stderr",
          "output_type": "stream",
          "text": [
            "                                                               \r"
          ]
        },
        {
          "name": "stdout",
          "output_type": "stream",
          "text": [
            "Moviepy - Done !\n",
            "Moviepy - video ready ExtractedVideos/76_Women_ 3m_Springboard_Semi-Final_Diving_Tokyo2020.mp4\n",
            "{'Sno': 76, 'Match name': 'Women_ 3m_Springboard_Semi-Final_Diving_Tokyo2020', 'Time': 5137, 'Name': 'Tina PUNZEL', 'Country': 'GER', 'Difficulty': '3.0', 'Dive Position': 'PIKE', 'Somersaults': '2', 'Dive Group': 'INWARD', 'Twists': None, 'Score': ([70.0, 78.0, 8.0, 7.0, 65.0, 65.0, 6.5], ''), 'Final Score': '11.05'}\n",
            "86 minutes and 24 seconds  dive started\n",
            "86 minutes and 58 seconds  dive scores announced\n",
            "DownloadedVideos/Women_ 3m_Springboard_Semi-Final_Diving_Tokyo2020.mp4\n",
            "ExtractedVideos/77_Women_ 3m_Springboard_Semi-Final_Diving_Tokyo2020.mp4\n",
            "5184\n",
            "5218\n",
            "Moviepy - Building video ExtractedVideos/77_Women_ 3m_Springboard_Semi-Final_Diving_Tokyo2020.mp4.\n",
            "Moviepy - Writing video ExtractedVideos/77_Women_ 3m_Springboard_Semi-Final_Diving_Tokyo2020.mp4\n",
            "\n"
          ]
        },
        {
          "name": "stderr",
          "output_type": "stream",
          "text": [
            "                                                               \r"
          ]
        },
        {
          "name": "stdout",
          "output_type": "stream",
          "text": [
            "Moviepy - Done !\n",
            "Moviepy - video ready ExtractedVideos/77_Women_ 3m_Springboard_Semi-Final_Diving_Tokyo2020.mp4\n",
            "{'Sno': 77, 'Match name': 'Women_ 3m_Springboard_Semi-Final_Diving_Tokyo2020', 'Time': 5184, 'Name': 'Marna POLIAKOVA', 'Country': 'ROC', 'Difficulty': '3.1', 'Dive Position': 'PIKE', 'Somersaults': '2', 'Dive Group': 'FORWARD', 'Twists': None, 'Score': ([70.0, 70.0, 78.0, 6.5, 7.0, 7.0, 7.0], '0'), 'Final Score': '65.10'}\n",
            "87 minutes and 12 seconds  dive started\n",
            "88 minutes and 4 seconds  dive scores announced\n",
            "DownloadedVideos/Women_ 3m_Springboard_Semi-Final_Diving_Tokyo2020.mp4\n",
            "ExtractedVideos/78_Women_ 3m_Springboard_Semi-Final_Diving_Tokyo2020.mp4\n",
            "5232\n",
            "5284\n",
            "Moviepy - Building video ExtractedVideos/78_Women_ 3m_Springboard_Semi-Final_Diving_Tokyo2020.mp4.\n",
            "Moviepy - Writing video ExtractedVideos/78_Women_ 3m_Springboard_Semi-Final_Diving_Tokyo2020.mp4\n",
            "\n"
          ]
        },
        {
          "name": "stderr",
          "output_type": "stream",
          "text": [
            "                                                                \r"
          ]
        },
        {
          "name": "stdout",
          "output_type": "stream",
          "text": [
            "Moviepy - Done !\n",
            "Moviepy - video ready ExtractedVideos/78_Women_ 3m_Springboard_Semi-Final_Diving_Tokyo2020.mp4\n",
            "{'Sno': 78, 'Match name': 'Women_ 3m_Springboard_Semi-Final_Diving_Tokyo2020', 'Time': 5232, 'Name': 'Emma GULLSTRAND', 'Country': 'SWE', 'Difficulty': '', 'Dive Position': 'PIKE', 'Somersaults': '2', 'Dive Group': 'FORWARD', 'Twists': '2', 'Score': ([65.0, 0.0, 4.5, 6.5, 70.0, 7.0, 7.0], '0'), 'Final Score': '69.70'}\n",
            "88 minutes and 19 seconds  dive started\n",
            "89 minutes and 5 seconds  dive scores announced\n",
            "DownloadedVideos/Women_ 3m_Springboard_Semi-Final_Diving_Tokyo2020.mp4\n",
            "ExtractedVideos/79_Women_ 3m_Springboard_Semi-Final_Diving_Tokyo2020.mp4\n",
            "5299\n",
            "5345\n",
            "Moviepy - Building video ExtractedVideos/79_Women_ 3m_Springboard_Semi-Final_Diving_Tokyo2020.mp4.\n",
            "Moviepy - Writing video ExtractedVideos/79_Women_ 3m_Springboard_Semi-Final_Diving_Tokyo2020.mp4\n",
            "\n"
          ]
        },
        {
          "name": "stderr",
          "output_type": "stream",
          "text": [
            "                                                                \r"
          ]
        },
        {
          "name": "stdout",
          "output_type": "stream",
          "text": [
            "Moviepy - Done !\n",
            "Moviepy - video ready ExtractedVideos/79_Women_ 3m_Springboard_Semi-Final_Diving_Tokyo2020.mp4\n",
            "{'Sno': 79, 'Match name': 'Women_ 3m_Springboard_Semi-Final_Diving_Tokyo2020', 'Time': 5299, 'Name': 'MicHeLLe HEIMBERG', 'Country': 'Sul', 'Difficulty': '3.0', 'Dive Position': 'PIKE', 'Somersaults': '2', 'Dive Group': 'REVERSE', 'Twists': None, 'Score': ([5.0, 480.0, 9.5, 5.0, 75.0, 7.5, 7.5], '0'), 'Final Score': '89.80'}\n",
            "89 minutes and 19 seconds  dive started\n",
            "89 minutes and 54 seconds  dive scores announced\n",
            "DownloadedVideos/Women_ 3m_Springboard_Semi-Final_Diving_Tokyo2020.mp4\n",
            "ExtractedVideos/80_Women_ 3m_Springboard_Semi-Final_Diving_Tokyo2020.mp4\n",
            "5359\n",
            "5394\n",
            "Moviepy - Building video ExtractedVideos/80_Women_ 3m_Springboard_Semi-Final_Diving_Tokyo2020.mp4.\n",
            "Moviepy - Writing video ExtractedVideos/80_Women_ 3m_Springboard_Semi-Final_Diving_Tokyo2020.mp4\n",
            "\n"
          ]
        },
        {
          "name": "stderr",
          "output_type": "stream",
          "text": [
            "                                                               \r"
          ]
        },
        {
          "name": "stdout",
          "output_type": "stream",
          "text": [
            "Moviepy - Done !\n",
            "Moviepy - video ready ExtractedVideos/80_Women_ 3m_Springboard_Semi-Final_Diving_Tokyo2020.mp4\n",
            "{'Sno': 80, 'Match name': 'Women_ 3m_Springboard_Semi-Final_Diving_Tokyo2020', 'Time': 5359, 'Name': 'Nur DHasITaH SABRI', 'Country': 'MAS', 'Difficulty': '3.0', 'Dive Position': 'PIKE', 'Somersaults': '22', 'Dive Group': 'FORWARD', 'Twists': '1', 'Score': ([4.0, 70.0, 4.0, 6.5, 6.5, 6.5], '00'), 'Final Score': '58.50'}\n",
            "90 minutes and 7 seconds  dive started\n",
            "90 minutes and 50 seconds  dive scores announced\n",
            "DownloadedVideos/Women_ 3m_Springboard_Semi-Final_Diving_Tokyo2020.mp4\n",
            "ExtractedVideos/81_Women_ 3m_Springboard_Semi-Final_Diving_Tokyo2020.mp4\n",
            "5407\n",
            "5450\n",
            "Moviepy - Building video ExtractedVideos/81_Women_ 3m_Springboard_Semi-Final_Diving_Tokyo2020.mp4.\n",
            "Moviepy - Writing video ExtractedVideos/81_Women_ 3m_Springboard_Semi-Final_Diving_Tokyo2020.mp4\n",
            "\n"
          ]
        },
        {
          "name": "stderr",
          "output_type": "stream",
          "text": [
            "                                                                \r"
          ]
        },
        {
          "name": "stdout",
          "output_type": "stream",
          "text": [
            "Moviepy - Done !\n",
            "Moviepy - video ready ExtractedVideos/81_Women_ 3m_Springboard_Semi-Final_Diving_Tokyo2020.mp4\n",
            "{'Sno': 81, 'Match name': 'Women_ 3m_Springboard_Semi-Final_Diving_Tokyo2020', 'Time': 5407, 'Name': 'EstHer QIN', 'Country': 'AUS', 'Difficulty': '3.0', 'Dive Position': 'PIKE', 'Somersaults': '22', 'Dive Group': 'FORWARD', 'Twists': '1', 'Score': ([38.0, 78.0, 78.0, 70.0, 7.0, 7.0, 7.0], ''), 'Final Score': '63.00'}\n",
            "90 minutes and 59 seconds  dive started\n",
            "91 minutes and 44 seconds  dive scores announced\n",
            "DownloadedVideos/Women_ 3m_Springboard_Semi-Final_Diving_Tokyo2020.mp4\n",
            "ExtractedVideos/82_Women_ 3m_Springboard_Semi-Final_Diving_Tokyo2020.mp4\n",
            "5459\n",
            "5504\n",
            "Moviepy - Building video ExtractedVideos/82_Women_ 3m_Springboard_Semi-Final_Diving_Tokyo2020.mp4.\n",
            "Moviepy - Writing video ExtractedVideos/82_Women_ 3m_Springboard_Semi-Final_Diving_Tokyo2020.mp4\n",
            "\n"
          ]
        },
        {
          "name": "stderr",
          "output_type": "stream",
          "text": [
            "                                                                \r"
          ]
        },
        {
          "name": "stdout",
          "output_type": "stream",
          "text": [
            "Moviepy - Done !\n",
            "Moviepy - video ready ExtractedVideos/82_Women_ 3m_Springboard_Semi-Final_Diving_Tokyo2020.mp4\n",
            "{'Sno': 82, 'Match name': 'Women_ 3m_Springboard_Semi-Final_Diving_Tokyo2020', 'Time': 5459, 'Name': 'Aranza VAZQUEZ MONTANC', 'Country': 'MEX;', 'Difficulty': '3.0', 'Dive Position': 'PIKE', 'Somersaults': '22', 'Dive Group': 'FORWARD', 'Twists': '1', 'Score': ([45.0, 9.0, 45.0, 0.0, 6.5, 7.0, 7.0], ''), 'Final Score': ''}\n",
            "92 minutes and 1 seconds  dive started\n",
            "92 minutes and 33 seconds  dive scores announced\n",
            "DownloadedVideos/Women_ 3m_Springboard_Semi-Final_Diving_Tokyo2020.mp4\n",
            "ExtractedVideos/83_Women_ 3m_Springboard_Semi-Final_Diving_Tokyo2020.mp4\n",
            "5521\n",
            "5553\n",
            "Moviepy - Building video ExtractedVideos/83_Women_ 3m_Springboard_Semi-Final_Diving_Tokyo2020.mp4.\n",
            "Moviepy - Writing video ExtractedVideos/83_Women_ 3m_Springboard_Semi-Final_Diving_Tokyo2020.mp4\n",
            "\n"
          ]
        },
        {
          "name": "stderr",
          "output_type": "stream",
          "text": [
            "                                                               \r"
          ]
        },
        {
          "name": "stdout",
          "output_type": "stream",
          "text": [
            "Moviepy - Done !\n",
            "Moviepy - video ready ExtractedVideos/83_Women_ 3m_Springboard_Semi-Final_Diving_Tokyo2020.mp4\n",
            "{'Sno': 83, 'Match name': 'Women_ 3m_Springboard_Semi-Final_Diving_Tokyo2020', 'Time': 5521, 'Name': 'KIM Sun', 'Country': 'KOR', 'Difficulty': '3.0', 'Dive Position': 'PIKE', 'Somersaults': '22', 'Dive Group': 'FORWARD', 'Twists': '1', 'Score': ([358.0, 465.0, 4.0, 65.0, 65.0, 78.0, 6.5], '0'), 'Final Score': '58.50'}\n",
            "92 minutes and 45 seconds  dive started\n",
            "93 minutes and 26 seconds  dive scores announced\n",
            "DownloadedVideos/Women_ 3m_Springboard_Semi-Final_Diving_Tokyo2020.mp4\n",
            "ExtractedVideos/84_Women_ 3m_Springboard_Semi-Final_Diving_Tokyo2020.mp4\n",
            "5565\n",
            "5606\n",
            "Moviepy - Building video ExtractedVideos/84_Women_ 3m_Springboard_Semi-Final_Diving_Tokyo2020.mp4.\n",
            "Moviepy - Writing video ExtractedVideos/84_Women_ 3m_Springboard_Semi-Final_Diving_Tokyo2020.mp4\n",
            "\n"
          ]
        },
        {
          "name": "stderr",
          "output_type": "stream",
          "text": [
            "                                                                 \r"
          ]
        },
        {
          "name": "stdout",
          "output_type": "stream",
          "text": [
            "Moviepy - Done !\n",
            "Moviepy - video ready ExtractedVideos/84_Women_ 3m_Springboard_Semi-Final_Diving_Tokyo2020.mp4\n",
            "{'Sno': 84, 'Match name': 'Women_ 3m_Springboard_Semi-Final_Diving_Tokyo2020', 'Time': 5565, 'Name': 'HaiLey HERNANDEZ', 'Country': 'USA', 'Difficulty': '3.0', 'Dive Position': 'PIKE', 'Somersaults': '22', 'Dive Group': 'FORWARD', 'Twists': '1', 'Score': ([4.0, 465.0, 6.5, 6.5, 65.0, 6.5], '0'), 'Final Score': '58.50'}\n",
            "93 minutes and 39 seconds  dive started\n",
            "94 minutes and 12 seconds  dive scores announced\n",
            "DownloadedVideos/Women_ 3m_Springboard_Semi-Final_Diving_Tokyo2020.mp4\n",
            "ExtractedVideos/85_Women_ 3m_Springboard_Semi-Final_Diving_Tokyo2020.mp4\n",
            "5619\n",
            "5652\n",
            "Moviepy - Building video ExtractedVideos/85_Women_ 3m_Springboard_Semi-Final_Diving_Tokyo2020.mp4.\n",
            "Moviepy - Writing video ExtractedVideos/85_Women_ 3m_Springboard_Semi-Final_Diving_Tokyo2020.mp4\n",
            "\n"
          ]
        },
        {
          "name": "stderr",
          "output_type": "stream",
          "text": [
            "                                                               \r"
          ]
        },
        {
          "name": "stdout",
          "output_type": "stream",
          "text": [
            "Moviepy - Done !\n",
            "Moviepy - video ready ExtractedVideos/85_Women_ 3m_Springboard_Semi-Final_Diving_Tokyo2020.mp4\n",
            "{'Sno': 85, 'Match name': 'Women_ 3m_Springboard_Semi-Final_Diving_Tokyo2020', 'Time': 5619, 'Name': 'MIKAMI Sayaka', 'Country': 'JPN', 'Difficulty': '3.0', 'Dive Position': 'PIKE', 'Somersaults': '22', 'Dive Group': 'FORWARD', 'Twists': '1', 'Score': ([40.0, 465.0, 65.0, 80.0, 6.0, 6.0, 6.0], '0'), 'Final Score': '73.70'}\n",
            "94 minutes and 26 seconds  dive started\n",
            "95 minutes and 18 seconds  dive scores announced\n",
            "DownloadedVideos/Women_ 3m_Springboard_Semi-Final_Diving_Tokyo2020.mp4\n",
            "ExtractedVideos/86_Women_ 3m_Springboard_Semi-Final_Diving_Tokyo2020.mp4\n",
            "5666\n",
            "5718\n",
            "Moviepy - Building video ExtractedVideos/86_Women_ 3m_Springboard_Semi-Final_Diving_Tokyo2020.mp4.\n",
            "Moviepy - Writing video ExtractedVideos/86_Women_ 3m_Springboard_Semi-Final_Diving_Tokyo2020.mp4\n",
            "\n"
          ]
        },
        {
          "name": "stderr",
          "output_type": "stream",
          "text": [
            "                                                                 \r"
          ]
        },
        {
          "name": "stdout",
          "output_type": "stream",
          "text": [
            "Moviepy - Done !\n",
            "Moviepy - video ready ExtractedVideos/86_Women_ 3m_Springboard_Semi-Final_Diving_Tokyo2020.mp4\n",
            "{'Sno': 86, 'Match name': 'Women_ 3m_Springboard_Semi-Final_Diving_Tokyo2020', 'Time': 5666, 'Name': 'Pamera WARE', 'Country': 'CAN', 'Difficulty': '', 'Dive Position': 'FREE', 'Somersaults': None, 'Dive Group': 'REVERSE', 'Twists': 3.5, 'Score': ([90.0, 460.0, 0.0, 0.0, 0.0, 0.0, 60.0], '0'), 'Final Score': '45.10'}\n",
            "95 minutes and 34 seconds  dive started\n",
            "96 minutes and 12 seconds  dive scores announced\n",
            "DownloadedVideos/Women_ 3m_Springboard_Semi-Final_Diving_Tokyo2020.mp4\n",
            "ExtractedVideos/87_Women_ 3m_Springboard_Semi-Final_Diving_Tokyo2020.mp4\n",
            "5734\n",
            "5772\n",
            "Moviepy - Building video ExtractedVideos/87_Women_ 3m_Springboard_Semi-Final_Diving_Tokyo2020.mp4.\n",
            "Moviepy - Writing video ExtractedVideos/87_Women_ 3m_Springboard_Semi-Final_Diving_Tokyo2020.mp4\n",
            "\n"
          ]
        },
        {
          "name": "stderr",
          "output_type": "stream",
          "text": [
            "                                                               \r"
          ]
        },
        {
          "name": "stdout",
          "output_type": "stream",
          "text": [
            "Moviepy - Done !\n",
            "Moviepy - video ready ExtractedVideos/87_Women_ 3m_Springboard_Semi-Final_Diving_Tokyo2020.mp4\n",
            "{'Sno': 87, 'Match name': 'Women_ 3m_Springboard_Semi-Final_Diving_Tokyo2020', 'Time': 5734, 'Name': 'JENNIFER ABEL', 'Country': 'CAN', 'Difficulty': '3.4', 'Dive Position': 'PIKE', 'Somersaults': '22', 'Dive Group': 'FORWARD', 'Twists': '2', 'Score': ([70.0, 7.5, 7.5, 80.0, 7.5, 70.0, 7.5], '0'), 'Final Score': '76.50'}\n",
            "96 minutes and 28 seconds  dive started\n",
            "97 minutes and 5 seconds  dive scores announced\n",
            "DownloadedVideos/Women_ 3m_Springboard_Semi-Final_Diving_Tokyo2020.mp4\n",
            "ExtractedVideos/88_Women_ 3m_Springboard_Semi-Final_Diving_Tokyo2020.mp4\n",
            "5788\n",
            "5825\n",
            "Moviepy - Building video ExtractedVideos/88_Women_ 3m_Springboard_Semi-Final_Diving_Tokyo2020.mp4.\n",
            "Moviepy - Writing video ExtractedVideos/88_Women_ 3m_Springboard_Semi-Final_Diving_Tokyo2020.mp4\n",
            "\n"
          ]
        },
        {
          "name": "stderr",
          "output_type": "stream",
          "text": [
            "                                                               \r"
          ]
        },
        {
          "name": "stdout",
          "output_type": "stream",
          "text": [
            "Moviepy - Done !\n",
            "Moviepy - video ready ExtractedVideos/88_Women_ 3m_Springboard_Semi-Final_Diving_Tokyo2020.mp4\n",
            "{'Sno': 88, 'Match name': 'Women_ 3m_Springboard_Semi-Final_Diving_Tokyo2020', 'Time': 5788, 'Name': 'WANG Han', 'Country': 'CHN', 'Difficulty': '', 'Dive Position': 'PIKE', 'Somersaults': '22', 'Dive Group': 'FORWARD', 'Twists': '1', 'Score': ([490.0, 89.0, 80.0, 80.0, 80.0, 7.5, 8.0], ''), 'Final Score': '46.85'}\n",
            "97 minutes and 24 seconds  dive started\n",
            "98 minutes and 17 seconds  dive scores announced\n",
            "DownloadedVideos/Women_ 3m_Springboard_Semi-Final_Diving_Tokyo2020.mp4\n",
            "ExtractedVideos/89_Women_ 3m_Springboard_Semi-Final_Diving_Tokyo2020.mp4\n",
            "5844\n",
            "5897\n",
            "Moviepy - Building video ExtractedVideos/89_Women_ 3m_Springboard_Semi-Final_Diving_Tokyo2020.mp4.\n",
            "Moviepy - Writing video ExtractedVideos/89_Women_ 3m_Springboard_Semi-Final_Diving_Tokyo2020.mp4\n",
            "\n"
          ]
        },
        {
          "name": "stderr",
          "output_type": "stream",
          "text": [
            "                                                                 \r"
          ]
        },
        {
          "name": "stdout",
          "output_type": "stream",
          "text": [
            "Moviepy - Done !\n",
            "Moviepy - video ready ExtractedVideos/89_Women_ 3m_Springboard_Semi-Final_Diving_Tokyo2020.mp4\n",
            "{'Sno': 89, 'Match name': 'Women_ 3m_Springboard_Semi-Final_Diving_Tokyo2020', 'Time': 5844, 'Name': 'SHI TinamAO', 'Country': 'CHN', 'Difficulty': '', 'Dive Position': 'PIKE', 'Somersaults': '22', 'Dive Group': 'FORWARD', 'Twists': '1', 'Score': ([30.0, 90.0, 90.0, 89.0, 856.0, 85.0, 890.0], '0'), 'Final Score': '71.45'}\n",
            "102 minutes and 4 seconds  dive started\n",
            "completed\n"
          ]
        },
        {
          "data": {
            "image/png": "[encoded data removed]",
            "text/plain": [
              "<Figure size 640x480 with 1 Axes>"
            ]
          },
          "metadata": {},
          "output_type": "display_data"
        }
      ],
      "source": [
        "\n",
        "templateTokyo = cv2.imread('HelperImages/template_tokyo.jpg', cv2.IMREAD_GRAYSCALE)\n",
        "templateResTokyo = cv2.imread('HelperImages/template_res_tokyo.png', cv2.IMREAD_GRAYSCALE)\n",
        "filePath=\"DownloadedVideos/Women_ 3m_Springboard_Semi-Final_Diving_Tokyo2020.mp4\"\n",
        "videoName=\"Women_ 3m_Springboard_Semi-Final_Diving_Tokyo2020\"\n",
        "extract_from_video(filePath,videoName,templateTokyo,templateResTokyo)"
      ]
    },
    {
      "cell_type": "code",
      "execution_count": null,
      "id": "be507d59",
      "metadata": {
        "id": "be507d59"
      },
      "outputs": [],
      "source": []
    },
    {
      "cell_type": "code",
      "execution_count": null,
      "id": "3e17cfeb",
      "metadata": {
        "id": "3e17cfeb"
      },
      "outputs": [],
      "source": []
    },
    {
      "cell_type": "code",
      "execution_count": null,
      "id": "5cf6670e",
      "metadata": {
        "id": "5cf6670e"
      },
      "outputs": [],
      "source": []
    }
  ],
  "metadata": {
    "kernelspec": {
      "display_name": "Python 3 (ipykernel)",
      "language": "python",
      "name": "python3"
    },
    "language_info": {
      "codemirror_mode": {
        "name": "ipython",
        "version": 3
      },
      "file_extension": ".py",
      "mimetype": "text/x-python",
      "name": "python",
      "nbconvert_exporter": "python",
      "pygments_lexer": "ipython3",
      "version": "3.10.12"
    },
    "colab": {
      "provenance": []
    }
  },
  "nbformat": 4,
  "nbformat_minor": 5
}